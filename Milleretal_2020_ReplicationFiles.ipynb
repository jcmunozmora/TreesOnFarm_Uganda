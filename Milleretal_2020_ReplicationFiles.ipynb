{
 "cells": [
  {
   "cell_type": "markdown",
   "metadata": {},
   "source": [
    "# Do trees on farms improve household welfare? Evidence from national panel data in Uganda\n",
    "\n",
    "Daniel C. Miller1*†, Juan Carlos Muñoz-Mora2†, Laura V. Rasmussen3, Alberto Zezza4\n",
    "\n",
    "\n",
    "This code replicates the information for the paper.\n",
    "\n",
    "First we set the folders\n"
   ]
  },
  {
   "cell_type": "code",
   "execution_count": 8,
   "metadata": {
    "ExecuteTime": {
     "end_time": "2020-06-03T16:59:59.074908Z",
     "start_time": "2020-06-03T16:59:58.846711Z"
    }
   },
   "outputs": [],
   "source": [
    "* First we include the folders\n",
    "global main_path \"/Users/jcmunoz/Dropbox/Documents/Projects_papers/2020/Miller_etal_2020/TreesOnFarm_Uganda\"\n",
    "\n",
    " global tables \"$main_path/02_Paper/tables\""
   ]
  },
  {
   "cell_type": "markdown",
   "metadata": {},
   "source": [
    "##  Wave 2005-06"
   ]
  },
  {
   "cell_type": "code",
   "execution_count": 31,
   "metadata": {
    "ExecuteTime": {
     "end_time": "2020-06-03T17:16:32.822487Z",
     "start_time": "2020-06-03T17:16:32.722114Z"
    }
   },
   "outputs": [
    {
     "name": "stdout",
     "output_type": "stream",
     "text": [
      "\n",
      "(Written by R.              )\n",
      "\n",
      "\n",
      "\n",
      "(0 real changes made)\n",
      "(3,099 real changes made)\n",
      "(0 real changes made)\n",
      "(3,045 real changes made)\n",
      "(0 real changes made)\n",
      "(492 real changes made)\n",
      "(0 real changes made)\n",
      "(2,117 real changes made)\n",
      "(0 real changes made)\n",
      "(1,129 real changes made)\n",
      "(0 real changes made)\n",
      "(3,122 real changes made)\n",
      "(0 real changes made)\n",
      "(3,080 real changes made)\n",
      "(0 real changes made)\n",
      "(3,078 real changes made)\n",
      "(0 real changes made)\n",
      "(556 real changes made)\n",
      "(0 real changes made)\n",
      "(564 real changes made)\n",
      "(0 real changes made)\n",
      "(1,564 real changes made)\n",
      "(0 real changes made)\n",
      "(1,784 real changes made)\n",
      "\n",
      "(23 real changes made)\n",
      "\n",
      "\n",
      "\n",
      "\n",
      "Duplicates in terms of hhid\n",
      "\n",
      "(0 observations are duplicates)\n",
      "\n",
      "\n",
      "(note: file /var/folders/ck/dtl4cjr56b149rc65s_h4tsjk9q_cj/T//St51381.00000c not found)\n",
      "file /var/folders/ck/dtl4cjr56b149rc65s_h4tsjk9q_cj/T//St51381.00000c saved\n"
     ]
    }
   ],
   "source": [
    "use \"$main_path/01_DataSets/data05_hh.dta\", clear\n",
    "\n",
    "drop exp_food\n",
    "gen exp_food=exp_food_pur+exp_food_away+exp_food_own+exp_food_free\n",
    "foreach var of varlist exp_food exp_food_pur- tot_exp inc_fruit- inc_ag_total {\n",
    "\treplace `var'=0 if `var'==.\n",
    "\treplace `var'=`var'*1.520308938\n",
    "\t***********\n",
    "\t**********\n",
    "}\n",
    "\n",
    "replace hhsize_ae=hhsize if hhsize_ae==0\n",
    "\n",
    "renvars *, prefix(\"w0_\")\n",
    "rename w0_hhid hhid\n",
    "\n",
    "duplicates drop hhid, force\n",
    "\n",
    "tempfile wave0\n",
    "save `wave0',replace"
   ]
  },
  {
   "cell_type": "markdown",
   "metadata": {},
   "source": [
    "## Wave 2009-10"
   ]
  },
  {
   "cell_type": "code",
   "execution_count": 17,
   "metadata": {
    "ExecuteTime": {
     "end_time": "2020-06-03T17:03:26.773504Z",
     "start_time": "2020-06-03T17:03:26.676798Z"
    },
    "code_folding": []
   },
   "outputs": [
    {
     "name": "stdout",
     "output_type": "stream",
     "text": [
      "\n",
      "(Written by R.              )\n",
      "\n",
      "\n",
      "\n",
      "(0 real changes made)\n",
      "(0 real changes made)\n",
      "(0 real changes made)\n",
      "(0 real changes made)\n",
      "(0 real changes made)\n",
      "(0 real changes made)\n",
      "(0 real changes made)\n",
      "(0 real changes made)\n",
      "(0 real changes made)\n",
      "(0 real changes made)\n",
      "(0 real changes made)\n",
      "(0 real changes made)\n",
      "(0 real changes made)\n",
      "(0 real changes made)\n",
      "(0 real changes made)\n",
      "(0 real changes made)\n",
      "(0 real changes made)\n",
      "(0 real changes made)\n",
      "(0 real changes made)\n",
      "(0 real changes made)\n",
      "(0 real changes made)\n",
      "(0 real changes made)\n",
      "(0 real changes made)\n",
      "(0 real changes made)\n",
      "\n",
      "(4 real changes made)\n",
      "\n",
      "\n",
      "\n",
      "\n",
      "Duplicates in terms of hhid\n",
      "\n",
      "(21 observations deleted)\n",
      "\n",
      "\n",
      "(note: file /var/folders/ck/dtl4cjr56b149rc65s_h4tsjk9q_cj/T//St51381.000009 not found)\n",
      "file /var/folders/ck/dtl4cjr56b149rc65s_h4tsjk9q_cj/T//St51381.000009 saved\n"
     ]
    }
   ],
   "source": [
    "use \"$main_path/01_DataSets/data10_hh.dta\", clear\n",
    "\n",
    "drop exp_food\n",
    "gen exp_food=exp_food_pur+exp_food_away+exp_food_own+exp_food_free\n",
    "foreach var of varlist exp_food exp_food_pur- tot_exp inc_fruit- inc_ag_total {\n",
    "\treplace `var'=0 if `var'==.\n",
    "\treplace `var'=`var'*1\n",
    "\t***********\n",
    "\t**********\n",
    "}\n",
    "\n",
    "replace hhsize_ae=hhsize if hhsize_ae==0\n",
    "\n",
    "renvars *, prefix(\"w1_\")\n",
    "rename w1_hhid hhid\n",
    "\n",
    "duplicates drop hhid, force\n",
    "\n",
    "tempfile wave1\n",
    "save `wave1',replace"
   ]
  },
  {
   "cell_type": "markdown",
   "metadata": {},
   "source": [
    "## Wave 2010-11"
   ]
  },
  {
   "cell_type": "code",
   "execution_count": 21,
   "metadata": {
    "ExecuteTime": {
     "end_time": "2020-06-03T17:06:23.848805Z",
     "start_time": "2020-06-03T17:06:23.757701Z"
    }
   },
   "outputs": [
    {
     "name": "stdout",
     "output_type": "stream",
     "text": [
      "\n",
      "(Written by R.              )\n",
      "\n",
      "\n",
      "\n",
      "\n",
      "(0 real changes made)\n",
      "(2,821 real changes made)\n",
      "(0 real changes made)\n",
      "(2,779 real changes made)\n",
      "(0 real changes made)\n",
      "(335 real changes made)\n",
      "(0 real changes made)\n",
      "(2,211 real changes made)\n",
      "(0 real changes made)\n",
      "(922 real changes made)\n",
      "(0 real changes made)\n",
      "(2,824 real changes made)\n",
      "(0 real changes made)\n",
      "(2,752 real changes made)\n",
      "(0 real changes made)\n",
      "(2,812 real changes made)\n",
      "(0 real changes made)\n",
      "(506 real changes made)\n",
      "(0 real changes made)\n",
      "(484 real changes made)\n",
      "(0 real changes made)\n",
      "(1,545 real changes made)\n",
      "(0 real changes made)\n",
      "(1,753 real changes made)\n",
      "\n",
      "(0 real changes made)\n",
      "\n",
      "\n",
      "\n",
      "\n",
      "Duplicates in terms of hhid\n",
      "\n",
      "(0 observations are duplicates)\n",
      "\n",
      "\n",
      "(note: file /var/folders/ck/dtl4cjr56b149rc65s_h4tsjk9q_cj/T//St51381.00000b not found)\n",
      "file /var/folders/ck/dtl4cjr56b149rc65s_h4tsjk9q_cj/T//St51381.00000b saved\n"
     ]
    }
   ],
   "source": [
    "use \"$main_path/01_DataSets/data11_hh.dta\", clear\n",
    "\n",
    "renvars *, subst(\"w0_w0_\" \"\")\n",
    "\n",
    "drop exp_food\n",
    "gen exp_food=exp_food_pur+exp_food_away+exp_food_own+exp_food_free\n",
    "foreach var of varlist exp_food exp_food_pur- tot_exp inc_fruit- inc_ag_total {\n",
    "\treplace `var'=0 if `var'==.\n",
    "\treplace `var'=`var'*1.094444912\n",
    "\t***********\n",
    "\t**********\n",
    "}\n",
    "\n",
    "replace hhsize_ae=hhsize if hhsize_ae==0\n",
    "\n",
    "renvars *, prefix(\"w2_\")\n",
    "rename w2_hhid hhid\n",
    "\n",
    "duplicates drop hhid, force\n",
    "\n",
    "tempfile wave2\n",
    "save `wave2',replace"
   ]
  },
  {
   "cell_type": "markdown",
   "metadata": {},
   "source": [
    "### Wave 2011-12"
   ]
  },
  {
   "cell_type": "code",
   "execution_count": null,
   "metadata": {},
   "outputs": [],
   "source": [
    "use \"$main_path/01_DataSets/data11_hh.dta\", clear\n",
    "\n",
    "renvars *, subst(\"w0_w0_\" \"\")\n",
    "\n",
    "drop exp_food\n",
    "gen exp_food=exp_food_pur+exp_food_away+exp_food_own+exp_food_free\n",
    "foreach var of varlist exp_food exp_food_pur- tot_exp inc_fruit- inc_ag_total {\n",
    "\treplace `var'=0 if `var'==.\n",
    "\treplace `var'=`var'*1.094444912\n",
    "\t***********\n",
    "\t**********\n",
    "}\n",
    "\n",
    "replace hhsize_ae=hhsize if hhsize_ae==0\n",
    "\n",
    "renvars *, prefix(\"w2_\")\n",
    "rename w2_hhid hhid\n",
    "\n",
    "duplicates drop hhid, force\n",
    "\n",
    "tempfile wave2\n",
    "save `wave2',replace"
   ]
  },
  {
   "cell_type": "markdown",
   "metadata": {},
   "source": [
    "## Main Analysis"
   ]
  },
  {
   "cell_type": "code",
   "execution_count": 28,
   "metadata": {
    "ExecuteTime": {
     "end_time": "2020-06-03T17:09:53.412703Z",
     "start_time": "2020-06-03T17:09:53.352692Z"
    }
   },
   "outputs": [
    {
     "name": "stdout",
     "output_type": "stream",
     "text": [
      "\n",
      "(Written by R.              )\n",
      "\n",
      "(816 observations deleted)\n",
      "\n",
      "(928 observations deleted)\n",
      "\n",
      "\n",
      "(201 observations deleted)\n",
      "\n",
      "\n",
      "\n",
      "Duplicates in terms of hhid\n",
      "\n",
      "(1 observation deleted)\n"
     ]
    }
   ],
   "source": [
    "*** **************************\n",
    "*** 01 - Prepare Baseline Data -- 2013-14\n",
    "*** **************************\n",
    "\n",
    "use \"$main_path/01_DataSets/data14_hh.dta\", clear\n",
    "\n",
    "*** Only Rural Households\n",
    "drop if urban==1\n",
    "\n",
    "*** Only Those households present in boths\n",
    "drop if hhid==\"NA\"\n",
    "gen hhid_s=strlen(hhid)\n",
    "keep if hhid_s==10\n",
    "drop hhid_s\n",
    "duplicates drop hhid, force\n",
    "\n"
   ]
  },
  {
   "cell_type": "markdown",
   "metadata": {},
   "source": [
    "Now we need to merge "
   ]
  },
  {
   "cell_type": "code",
   "execution_count": 29,
   "metadata": {
    "ExecuteTime": {
     "end_time": "2020-06-03T17:09:54.787714Z",
     "start_time": "2020-06-03T17:09:54.725945Z"
    }
   },
   "outputs": [
    {
     "name": "stdout",
     "output_type": "stream",
     "text": [
      "\n",
      "(label hh_head_sch already defined)\n",
      "(label stratum already defined)\n",
      "\n",
      "    Result                           # of obs.\n",
      "    -----------------------------------------\n",
      "    not matched                             0\n",
      "    matched                             1,174  \n",
      "    -----------------------------------------\n",
      "\n",
      "(85 observations deleted)\n",
      "\n",
      "(62 real changes made)\n"
     ]
    }
   ],
   "source": [
    "*** Merge baseline information\n",
    "merge 1:1 hhid using `wave0', keep(matched) nogen\n",
    "drop if w0_harv_q_fruit==.\n",
    "replace harv_q_fruit=0 if harv_q_fruit==.\n",
    "\n"
   ]
  },
  {
   "cell_type": "code",
   "execution_count": 30,
   "metadata": {
    "ExecuteTime": {
     "end_time": "2020-06-03T17:09:56.373302Z",
     "start_time": "2020-06-03T17:09:56.310518Z"
    }
   },
   "outputs": [
    {
     "name": "stdout",
     "output_type": "stream",
     "text": [
      "\n",
      "(label region already defined)\n",
      "(label stratum already defined)\n",
      "\n",
      "    Result                           # of obs.\n",
      "    -----------------------------------------\n",
      "    not matched                            51\n",
      "        from master                        51  \n",
      "        from using                          0  \n",
      "\n",
      "    matched                             1,038  \n",
      "    -----------------------------------------\n",
      "\n",
      "(106 observations deleted)\n",
      "\n",
      "(0 real changes made)\n"
     ]
    }
   ],
   "source": [
    "*** Merge baseline information\n",
    "merge 1:1 hhid using `wave1', keep(master matched) nogen\n",
    "drop if w1_harv_q_fruit==.\n",
    "replace harv_q_fruit=0 if harv_q_fruit==."
   ]
  },
  {
   "cell_type": "code",
   "execution_count": null,
   "metadata": {},
   "outputs": [],
   "source": [
    "*** Migration Variable\n",
    "merge 1:1 hhid using \"$main_path/01_DataSets/Panel_Structure_Data_Uganda.dta\", nogen keep(matched) \n",
    "\n",
    "rename hhid HHID\n",
    "merge 1:1 HHID using  \"$main_path/01_DataSets/UNPS_Geovars_1112.dta\", nogen keep(master matched) keepusing(ssa_aez09_x)\n"
   ]
  },
  {
   "cell_type": "code",
   "execution_count": null,
   "metadata": {},
   "outputs": [],
   "source": []
  }
 ],
 "metadata": {
  "kernelspec": {
   "display_name": "Stata",
   "language": "stata",
   "name": "stata"
  },
  "language_info": {
   "codemirror_mode": "stata",
   "file_extension": ".do",
   "mimetype": "text/x-stata",
   "name": "stata",
   "version": "15.1"
  },
  "toc": {
   "base_numbering": 1,
   "nav_menu": {},
   "number_sections": true,
   "sideBar": true,
   "skip_h1_title": true,
   "title_cell": "Table of Contents",
   "title_sidebar": "Contents",
   "toc_cell": false,
   "toc_position": {
    "height": "calc(100% - 180px)",
    "left": "10px",
    "top": "150px",
    "width": "203.188px"
   },
   "toc_section_display": true,
   "toc_window_display": true
  }
 },
 "nbformat": 4,
 "nbformat_minor": 2
}
