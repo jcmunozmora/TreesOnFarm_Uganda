{
 "cells": [
  {
   "cell_type": "code",
   "execution_count": 75,
   "metadata": {},
   "outputs": [
    {
     "name": "stderr",
     "output_type": "stream",
     "text": [
      "Warning message in read.dta13(paste0(path_work, \"00_RawData/2005-06/Household/GSEC1.dta\")):\n",
      "“\n",
      "  region:\n",
      "  Missing factor labels - no labels assigned.\n",
      "  Set option generate.factors=T to generate labels.”Warning message in read.dta13(paste0(path_work, \"00_RawData/2005-06/Household/GSEC1.dta\")):\n",
      "“\n",
      "  urban:\n",
      "  Missing factor labels - no labels assigned.\n",
      "  Set option generate.factors=T to generate labels.”Warning message in read.dta13(paste0(path_work, \"00_RawData/2009-10/Household/GSEC1.dta\")):\n",
      "“\n",
      "  regurb:\n",
      "  Missing factor labels - no labels assigned.\n",
      "  Set option generate.factors=T to generate labels.”Warning message in read.dta13(paste0(path_work, \"00_RawData/2010-11/Household/GSEC1.dta\")):\n",
      "“\n",
      "  reason:\n",
      "  Missing factor labels - no labels assigned.\n",
      "  Set option generate.factors=T to generate labels.”Warning message in read.dta13(paste0(path_work, \"00_RawData/2011-12/Household/GSEC1.dta\")):\n",
      "“\n",
      "  regurb:\n",
      "  Missing factor labels - no labels assigned.\n",
      "  Set option generate.factors=T to generate labels.”Warning message in read.dta13(paste0(path_work, \"00_RawData/2011-12/Household/GSEC1.dta\")):\n",
      "“\n",
      "  reason:\n",
      "  Missing factor labels - no labels assigned.\n",
      "  Set option generate.factors=T to generate labels.”Warning message in read.dta13(paste0(path_work, \"00_RawData/2013-14/GSEC1.dta\")):\n",
      "“\n",
      "  urban:\n",
      "  Duplicated factor levels detected - generating unique labels.\n",
      "”"
     ]
    }
   ],
   "source": [
    "source(file=\"/Users/juancarlosmunoz/Box Sync/Uganda_LSMS/Syntaxis_v2/04_Income_aux.R\",verbose=FALSE)"
   ]
  },
  {
   "cell_type": "markdown",
   "metadata": {},
   "source": [
    "# Function"
   ]
  },
  {
   "cell_type": "code",
   "execution_count": 76,
   "metadata": {},
   "outputs": [],
   "source": [
    "###########################\n",
    "### Function - Trees On Farm\n",
    "############################\n",
    "\n",
    "\n",
    "get_trees <- function(x,wave) {\n",
    "  org_va=colnames(x)\n",
    "  colnames(x)=c(\"hhid\",\"crop_id\",\"v\")\n",
    "  x$hhid <- as.character(x$hhid)\n",
    "  x <- x %>% mutate(trees=ifelse((crop_id %in% c(710,700,750,760,770,741,742,744)),\"Fruit Trees\",\n",
    "                                 ifelse(crop_id %in% c(860,820,830,810),\"Tree Cash Crops\",\n",
    "                                        ifelse(crop_id %in% c(880,970,990,950,960),\"Trees for Timber/Fuelwood\",\"Other Crops\")))) %>% group_by(hhid,trees) %>% summarise(n_crop=n()) %>% mutate(wav=wave)\n",
    "  return(x)\n",
    "}\n",
    "\n",
    "#--- End DataSEt\n",
    "  get_na_zero <- function(x) { ifelse(is.finite(x),x,0) }\n",
    "  get_na_zero_div <- function(x) { ifelse(is.finite(x),ifelse(x>1,1,x),0) }"
   ]
  },
  {
   "cell_type": "markdown",
   "metadata": {},
   "source": [
    "# Get Total Agricultural Income"
   ]
  },
  {
   "cell_type": "markdown",
   "metadata": {},
   "source": [
    "## Wave 2005-06"
   ]
  },
  {
   "cell_type": "code",
   "execution_count": 77,
   "metadata": {},
   "outputs": [
    {
     "name": "stderr",
     "output_type": "stream",
     "text": [
      "Joining, by = c(\"HHID\", \"cropid\")\n",
      "Joining, by = \"HHID\"\n",
      "Joining, by = \"HHID\"\n",
      "Joining, by = \"region\"\n"
     ]
    }
   ],
   "source": [
    "# -- Crop Level \n",
    "  crop_disp_A <- read.dta13(paste0(path_work,\"00_RawData/2005-06/Agriculture/AGSEC7A.dta\"))\n",
    "  crop_disp_B <- read.dta13(paste0(path_work,\"00_RawData/2005-06/Agriculture/AGSEC7B.dta\"))\n",
    "  \n",
    "  crop_disp_A <- crop_disp_A %>% mutate(cropid=a7aq2b)\n",
    "  crop_disp_B <- crop_disp_B %>% mutate(cropid=a7bq2b)\n",
    "\n",
    "### Crop_05 \n",
    "  crop_06 <- crop_disp_A %>% full_join(crop_disp_B) %>% filter(!is.na(cropid)) %>% \n",
    "    mutate(cropID=cropid,val_sold_1=get_na_zero(a7aq5),val_sold_2=get_na_zero(a7bq5),\n",
    "           q_harvest_1=get_na_zero(a7aq3b),q_harvest_2=get_na_zero(a7bq3b),\n",
    "           q_self_1=get_na_zero(a7aq9),q_self_2=get_na_zero(a7bq9)) %>% \n",
    "    transmute(HHID=HHID,cropID=cropID,val_sold=val_sold_1+val_sold_2,\n",
    "              self_con=get_na_zero_div((q_self_1+q_self_2)/(q_harvest_1+q_harvest_2)),\n",
    "              q_harvest=(q_harvest_1+q_harvest_2))  %>% imputeout(.,hh_roster_06)\n",
    "    "
   ]
  },
  {
   "cell_type": "markdown",
   "metadata": {},
   "source": [
    "## Wave 2009-10"
   ]
  },
  {
   "cell_type": "code",
   "execution_count": 78,
   "metadata": {},
   "outputs": [
    {
     "name": "stderr",
     "output_type": "stream",
     "text": [
      "Warning message in read.dta13(paste0(path_work, \"00_RawData/2009-10/Agriculture/AGSEC5A.dta\")):\n",
      "“\n",
      "  a5aq17:\n",
      "  Missing factor labels - no labels assigned.\n",
      "  Set option generate.factors=T to generate labels.”Warning message in read.dta13(paste0(path_work, \"00_RawData/2009-10/Agriculture/AGSEC5A.dta\")):\n",
      "“\n",
      "  a5aq18:\n",
      "  Missing factor labels - no labels assigned.\n",
      "  Set option generate.factors=T to generate labels.”Warning message in read.dta13(paste0(path_work, \"00_RawData/2009-10/Agriculture/AGSEC5A.dta\")):\n",
      "“\n",
      "  a5aq21:\n",
      "  Missing factor labels - no labels assigned.\n",
      "  Set option generate.factors=T to generate labels.”Warning message in read.dta13(paste0(path_work, \"00_RawData/2009-10/Agriculture/AGSEC5A.dta\")):\n",
      "“\n",
      "  a5aq24:\n",
      "  Missing factor labels - no labels assigned.\n",
      "  Set option generate.factors=T to generate labels.”Warning message in read.dta13(paste0(path_work, \"00_RawData/2009-10/Agriculture/AGSEC5B.dta\")):\n",
      "“\n",
      "  a5bq9:\n",
      "  Missing factor labels - no labels assigned.\n",
      "  Set option generate.factors=T to generate labels.”Warning message in read.dta13(paste0(path_work, \"00_RawData/2009-10/Agriculture/AGSEC5B.dta\")):\n",
      "“\n",
      "  a5bq17:\n",
      "  Missing factor labels - no labels assigned.\n",
      "  Set option generate.factors=T to generate labels.”Warning message in read.dta13(paste0(path_work, \"00_RawData/2009-10/Agriculture/AGSEC5B.dta\")):\n",
      "“\n",
      "  a5bq18:\n",
      "  Missing factor labels - no labels assigned.\n",
      "  Set option generate.factors=T to generate labels.”Warning message in read.dta13(paste0(path_work, \"00_RawData/2009-10/Agriculture/AGSEC5B.dta\")):\n",
      "“\n",
      "  a5bq19:\n",
      "  Missing factor labels - no labels assigned.\n",
      "  Set option generate.factors=T to generate labels.”Warning message in read.dta13(paste0(path_work, \"00_RawData/2009-10/Agriculture/AGSEC5B.dta\")):\n",
      "“\n",
      "  a5bq21:\n",
      "  Missing factor labels - no labels assigned.\n",
      "  Set option generate.factors=T to generate labels.”Joining, by = c(\"HHID\", \"parcel_id\", \"plot_id\", \"cropID\")\n",
      "Joining, by = \"HHID\"\n",
      "Joining, by = \"HHID\"\n",
      "Joining, by = \"region\"\n"
     ]
    }
   ],
   "source": [
    "  # -- Parcel Level\n",
    "  crop_disp_A <- read.dta13(paste0(path_work,\"00_RawData/2009-10/Agriculture/AGSEC5A.dta\")) %>%\n",
    "    mutate(HHID=HHID,parcel_id=a5aq1,plot_id=a5aq3,cropID=a5aq5)\n",
    "  crop_disp_B <- read.dta13(paste0(path_work,\"00_RawData/2009-10/Agriculture/AGSEC5B.dta\")) %>%\n",
    "    mutate(HHID=HHID,parcel_id=a5bq1,plot_id=a5bq3,cropID=a5bq5)\n",
    "  \n",
    "    #--- End DataSEt\n",
    "  crop_10 <- crop_disp_A %>% full_join(crop_disp_B) %>% filter(!is.na(cropID)) %>% \n",
    "    mutate(val_sold_1=get_na_zero(a5aq8),val_sold_2=get_na_zero(a5bq8),q_harvest_1=get_na_zero(a5aq7a),\n",
    "           q_harvest_2=get_na_zero(a5bq7a),q_self_1=get_na_zero(a5aq13),q_self_2=get_na_zero(a5bq13)) %>% \n",
    "    transmute(HHID=HHID,cropID=cropID,val_sold=val_sold_1+val_sold_2,\n",
    "              self_con=get_na_zero_div((q_self_1+q_self_2)/(q_harvest_1+q_harvest_2)),\n",
    "              q_harvest=(q_harvest_1+q_harvest_2))  %>% imputeout(.,hh_roster_10)\n",
    "  \n"
   ]
  },
  {
   "cell_type": "markdown",
   "metadata": {},
   "source": [
    "## Wave 2010-11"
   ]
  },
  {
   "cell_type": "code",
   "execution_count": 79,
   "metadata": {},
   "outputs": [
    {
     "name": "stderr",
     "output_type": "stream",
     "text": [
      "Joining, by = c(\"HHID\", \"prcid\", \"pltid\", \"cropID\")\n",
      "Joining, by = \"HHID\"\n",
      "Joining, by = \"HHID\"\n",
      "Joining, by = \"region\"\n"
     ]
    }
   ],
   "source": [
    " # -- Parcel Level\n",
    "crop_disp_A <- read.dta13(paste0(path_work,\"00_RawData/2010-11/Agriculture/AGSEC5A.dta\"),convert.factors=FALSE)\n",
    "crop_disp_B <- read.dta13(paste0(path_work,\"00_RawData/2010-11/Agriculture/AGSEC5B.dta\"),convert.factors=FALSE)\n",
    "  \n",
    "#--- End DataSEt\n",
    "crop_11 <- crop_disp_A %>% full_join(crop_disp_B) %>% filter(!is.na(cropID)) %>% \n",
    "    mutate(val_sold_1=get_na_zero(a5aq8),val_sold_2=get_na_zero(a5bq8),q_harvest_1=get_na_zero(a5aq6a),\n",
    "          q_harvest_2=get_na_zero(a5bq6a),q_self_1=get_na_zero(a5aq13),q_self_2=get_na_zero(a5bq13)) %>% \n",
    "transmute(HHID=as.character(HHID),cropID=cropID,val_sold=val_sold_1+val_sold_2,self_con=get_na_zero_div((q_self_1+q_self_2)/(q_harvest_1+q_harvest_2)),q_harvest=(q_harvest_1+q_harvest_2)) %>% imputeout(.,hh_roster_11)\n"
   ]
  },
  {
   "cell_type": "markdown",
   "metadata": {},
   "source": [
    "## Wave 2011-12"
   ]
  },
  {
   "cell_type": "code",
   "execution_count": 80,
   "metadata": {},
   "outputs": [
    {
     "name": "stderr",
     "output_type": "stream",
     "text": [
      "Joining, by = c(\"HHID\", \"parcelID\", \"plotID\", \"cropID\")\n",
      "Joining, by = \"HHID\"\n",
      "Joining, by = \"HHID\"\n",
      "Joining, by = \"region\"\n"
     ]
    }
   ],
   "source": [
    " # -- Parcel Level\n",
    "crop_disp_A <- read.dta13(paste0(path_work,\"00_RawData/2011-12/Agriculture/AGSEC5A.dta\"),convert.factors=FALSE)\n",
    "crop_disp_B <- read.dta13(paste0(path_work,\"00_RawData/2011-12/Agriculture/AGSEC5B.dta\"),convert.factors=FALSE)\n",
    "  \n",
    "#--- End DataSEt\n",
    "crop_12 <- crop_disp_A %>% full_join(crop_disp_B) %>% filter(!is.na(cropID)) %>% mutate(val_sold_1=get_na_zero(a5aq8),val_sold_2=get_na_zero(a5bq8),q_harvest_1=get_na_zero(a5aq6a),q_harvest_2=get_na_zero(a5bq6a),q_self_1=get_na_zero(a5aq13),q_self_2=get_na_zero(a5bq13)) %>% transmute(HHID=as.character(HHID),cropID=cropID,val_sold=val_sold_1+val_sold_2,self_con=get_na_zero_div((q_self_1+q_self_2)/(q_harvest_1+q_harvest_2)),q_harvest=(q_harvest_1+q_harvest_2)) %>% imputeout(.,hh_roster_11)\n",
    "\n",
    " "
   ]
  },
  {
   "cell_type": "markdown",
   "metadata": {},
   "source": [
    "## Wave 2013-14"
   ]
  },
  {
   "cell_type": "code",
   "execution_count": 81,
   "metadata": {},
   "outputs": [
    {
     "name": "stderr",
     "output_type": "stream",
     "text": [
      "Warning message in read.dta13(paste0(path_work, \"00_RawData/2013-14/AGSEC5A.dta\")):\n",
      "“\n",
      "  a5aq6b:\n",
      "  Missing factor labels - no labels assigned.\n",
      "  Set option generate.factors=T to generate labels.”Warning message in read.dta13(paste0(path_work, \"00_RawData/2013-14/AGSEC5A.dta\")):\n",
      "“\n",
      "  a5aq6c:\n",
      "  Missing factor labels - no labels assigned.\n",
      "  Set option generate.factors=T to generate labels.”Warning message in read.dta13(paste0(path_work, \"00_RawData/2013-14/AGSEC5A.dta\")):\n",
      "“\n",
      "  a5aq7b:\n",
      "  Missing factor labels - no labels assigned.\n",
      "  Set option generate.factors=T to generate labels.”Warning message in read.dta13(paste0(path_work, \"00_RawData/2013-14/AGSEC5B.dta\")):\n",
      "“\n",
      "  a5bq6b:\n",
      "  Missing factor labels - no labels assigned.\n",
      "  Set option generate.factors=T to generate labels.”Warning message in read.dta13(paste0(path_work, \"00_RawData/2013-14/AGSEC5B.dta\")):\n",
      "“\n",
      "  a5bq6c:\n",
      "  Missing factor labels - no labels assigned.\n",
      "  Set option generate.factors=T to generate labels.”Warning message in read.dta13(paste0(path_work, \"00_RawData/2013-14/AGSEC5B.dta\")):\n",
      "“\n",
      "  a5bq7b:\n",
      "  Missing factor labels - no labels assigned.\n",
      "  Set option generate.factors=T to generate labels.”Joining, by = c(\"HHID\", \"parcelID\", \"plotID\", \"cropID\", \"hh\", \"wgt_X\")\n",
      "Joining, by = \"HHID\"\n",
      "Joining, by = \"HHID\"\n",
      "Joining, by = \"region\"\n"
     ]
    }
   ],
   "source": [
    "# -- Parcel Level\n",
    "crop_disp_A <- read.dta13(paste0(path_work,\"00_RawData/2013-14/AGSEC5A.dta\"))\n",
    "crop_disp_B <- read.dta13(paste0(path_work,\"00_RawData/2013-14/AGSEC5B.dta\"))\n",
    "  \n",
    "#--- End DataSEt\n",
    "crop_14 <- crop_disp_A %>% full_join(crop_disp_B) %>% filter(!is.na(cropID)) %>% mutate(val_sold_1=get_na_zero(a5aq8),val_sold_2=get_na_zero(a5bq8),q_harvest_1=get_na_zero(a5aq6a),q_harvest_2=get_na_zero(a5bq6a),q_self_1=get_na_zero(a5aq13),q_self_2=get_na_zero(a5bq13)) %>% transmute(HHID=hh,cropID=cropID,val_sold=val_sold_1+val_sold_2,self_con=get_na_zero_div((q_self_1+q_self_2)/(q_harvest_1+q_harvest_2)),q_harvest=(q_harvest_1+q_harvest_2))  %>% imputeout(.,hh_roster_14)\n",
    "    "
   ]
  },
  {
   "cell_type": "markdown",
   "metadata": {},
   "source": [
    "# Gross Income"
   ]
  },
  {
   "cell_type": "code",
   "execution_count": 82,
   "metadata": {},
   "outputs": [
    {
     "name": "stderr",
     "output_type": "stream",
     "text": [
      "Adding missing grouping variables: `HHID`\n",
      "Joining, by = \"HHID\"\n",
      "Adding missing grouping variables: `HHID`\n",
      "Adding missing grouping variables: `HHID`\n",
      "Joining, by = \"HHID\"\n",
      "Joining, by = \"HHID\"\n",
      "Adding missing grouping variables: `HHID`\n",
      "Joining, by = \"HHID\"\n",
      "Adding missing grouping variables: `HHID`\n",
      "Adding missing grouping variables: `HHID`\n",
      "Joining, by = \"HHID\"\n",
      "Joining, by = \"HHID\"\n",
      "Adding missing grouping variables: `HHID`\n",
      "Joining, by = \"HHID\"\n",
      "Adding missing grouping variables: `HHID`\n",
      "Adding missing grouping variables: `HHID`\n",
      "Joining, by = \"HHID\"\n",
      "Joining, by = \"HHID\"\n",
      "Adding missing grouping variables: `HHID`\n",
      "Joining, by = \"HHID\"\n",
      "Adding missing grouping variables: `HHID`\n",
      "Adding missing grouping variables: `HHID`\n",
      "Joining, by = \"HHID\"\n",
      "Joining, by = \"HHID\"\n",
      "Adding missing grouping variables: `HHID`\n",
      "Joining, by = \"HHID\"\n",
      "Adding missing grouping variables: `HHID`\n",
      "Adding missing grouping variables: `HHID`\n",
      "Joining, by = \"HHID\"\n",
      "Joining, by = \"HHID\"\n"
     ]
    }
   ],
   "source": [
    "#### Function Get Values \n",
    "gross_income <- function(x) {\n",
    "    ##### Include TreesOnFarm classification\n",
    "    x <- x %>% mutate(trees=ifelse((cropID %in% c(710,700,750,760,770,741,742,744)),\"Fruit Trees\",\n",
    "                    ifelse(cropID %in% c(860,820,830,810,811,812),\"Tree Cash Crops\",\n",
    "            ifelse(cropID %in% c(880,970,990,950,960),\"Trees for Timber/Fuelwood\",\"Other Crops\"))))\n",
    "    \n",
    "    ##### ----- Income\n",
    "    \n",
    "    #### Agricultural Income\n",
    "    inc_total <- x %>% group_by(HHID) %>% summarise(inc_ag_total=sum(val_sold,na.rm=TRUE))\n",
    "    #### Income per crop\n",
    "    inc_crop <- x %>% group_by(HHID,trees) %>% summarise(inc_ag=sum(val_sold,na.rm=TRUE)) %>% spread(trees,inc_ag,fill=0) %>% transmute(inc_fruit=`Fruit Trees`,inc_cash=`Tree Cash Crops`,inc_other=`Other Crops`) %>% left_join(inc_total)\n",
    "    \n",
    "    ### Share Inncome\n",
    "    est_share <- function(x) { ifelse(is.finite(x),x,0) }\n",
    "    inc_crop <- inc_crop %>% mutate(share_fruit=est_share(inc_fruit/inc_ag_total),share_treesonfarm=est_share((inc_fruit+inc_cash)/inc_ag_total))\n",
    "    \n",
    "    ##### ----- Self Consumpion\n",
    "    harv <- x %>% group_by(HHID,trees) %>% summarise(harv_q=sum(q_harvest,na.rm=TRUE)) %>% spread(trees,harv_q,fill=0) %>% transmute(harv_q_fruit=`Fruit Trees`,harv_q_cash=`Tree Cash Crops`,harv_q_other=`Other Crops`) \n",
    "    \n",
    "    \n",
    "    ##### ----- Self Consumpion\n",
    "    sh_self <- x %>% group_by(HHID,trees) %>% summarise(self_con=mean(self_con,na.rm=TRUE)) %>% spread(trees,self_con,fill=0) %>% transmute(self_con_fruit=`Fruit Trees`,self_con_cash=`Tree Cash Crops`,self_con_other=`Other Crops`) %>% left_join(harv) %>%  left_join(inc_crop)\n",
    "  \n",
    "    ### Return \n",
    "    return(sh_self)\n",
    "  }\n",
    "  \n",
    "  #### Open files\n",
    "    inc_gross_agr_06 <- gross_income(crop_06)\n",
    "    inc_gross_agr_10 <- gross_income(crop_10)\n",
    "    inc_gross_agr_11 <- gross_income(crop_11)\n",
    "    inc_gross_agr_12 <- gross_income(crop_12)\n",
    "    inc_gross_agr_14 <- gross_income(crop_14)"
   ]
  },
  {
   "cell_type": "code",
   "execution_count": 83,
   "metadata": {},
   "outputs": [],
   "source": [
    "save(inc_gross_agr_06,inc_gross_agr_10,inc_gross_agr_11,inc_gross_agr_12,inc_gross_agr_14,file=paste0(save_data,\"04_inc_gross_inc_Jun2018.Rda\"))\n",
    "  \n"
   ]
  }
 ],
 "metadata": {
  "kernelspec": {
   "display_name": "R",
   "language": "R",
   "name": "ir"
  },
  "language_info": {
   "codemirror_mode": "r",
   "file_extension": ".r",
   "mimetype": "text/x-r-source",
   "name": "R",
   "pygments_lexer": "r",
   "version": "3.3.3"
  }
 },
 "nbformat": 4,
 "nbformat_minor": 2
}
