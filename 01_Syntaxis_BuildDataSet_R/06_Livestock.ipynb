{
 "cells": [
  {
   "cell_type": "code",
   "execution_count": 22,
   "metadata": {},
   "outputs": [],
   "source": [
    "##### Package\n",
    "library(\"readstata13\")\n",
    "library(plyr)\n",
    "library(dplyr)\n",
    "library(tidyr)\n",
    "\n",
    "### Directories\n",
    "path_work <- \"/Users/juancarlosmunoz/Box Sync/Uganda_LSMS/\"\n",
    "graph_path <- \"/Users/juancarlosmunoz/Box Sync/Uganda_LSMS/05_Paper/Graph/\"\n",
    "save_data <-  \"/Users/juancarlosmunoz/Box Sync/Uganda_LSMS/05_Analysis/\"\n",
    "path_who <- \"/Users/juancarlosmunoz/Box Sync/Uganda_LSMS/05_Analysis/inputs/\""
   ]
  },
  {
   "cell_type": "markdown",
   "metadata": {},
   "source": [
    "# Open Data"
   ]
  },
  {
   "cell_type": "code",
   "execution_count": 23,
   "metadata": {},
   "outputs": [
    {
     "name": "stderr",
     "output_type": "stream",
     "text": [
      "Warning message in read.dta13(paste0(path_work, \"00_RawData/2005-06/Agriculture/AGSEC10B.dta\")):\n",
      "“\n",
      "  a10bq3:\n",
      "  Missing factor labels - no labels assigned.\n",
      "  Set option generate.factors=T to generate labels.”Warning message in read.dta13(paste0(path_work, \"00_RawData/2005-06/Agriculture/AGSEC10C.dta\")):\n",
      "“\n",
      "  a10cq3:\n",
      "  Missing factor labels - no labels assigned.\n",
      "  Set option generate.factors=T to generate labels.”Warning message in read.dta13(paste0(path_work, \"00_RawData/2010-11/Agriculture/AGSEC6B.dta\")):\n",
      "“\n",
      "  a6bq3:\n",
      "  Duplicated factor levels detected - generating unique labels.\n",
      "”Warning message in read.dta13(paste0(path_work, \"00_RawData/2010-11/Agriculture/AGSEC6B.dta\")):\n",
      "“\n",
      "  a6bq3:\n",
      "  Duplicated factor levels detected - generating unique labels.\n",
      "”"
     ]
    }
   ],
   "source": [
    "###########################\n",
    "###  Livestock\n",
    "############################\n",
    "\n",
    "#-------------\n",
    "##### 2005-2006\n",
    "#-------------\n",
    "large_lvst_06 <- read.dta13(paste0(path_work,\"00_RawData/2005-06/Agriculture/AGSEC10A.dta\"))\n",
    "small_lvst_06 <- read.dta13(paste0(path_work,\"00_RawData/2005-06/Agriculture/AGSEC10B.dta\"))\n",
    "poult_lvst_06 <- read.dta13(paste0(path_work,\"00_RawData/2005-06/Agriculture/AGSEC10C.dta\"))\n",
    "\n",
    "#-------------\n",
    "##### 2009-2010\n",
    "#-------------\n",
    "large_lvst_10 <- read.dta13(paste0(path_work,\"00_RawData/2010-11/Agriculture/AGSEC6A.dta\"))\n",
    "small_lvst_10 <- read.dta13(paste0(path_work,\"00_RawData/2010-11/Agriculture/AGSEC6B.dta\"))\n",
    "poult_lvst_10 <- read.dta13(paste0(path_work,\"00_RawData/2010-11/Agriculture/AGSEC6C.dta\"))\n",
    "\n",
    "#-------------\n",
    "##### 2010-2011\n",
    "#-------------\n",
    "large_lvst_11 <- read.dta13(paste0(path_work,\"00_RawData/2010-11/Agriculture/AGSEC6A.dta\"))\n",
    "small_lvst_11 <- read.dta13(paste0(path_work,\"00_RawData/2010-11/Agriculture/AGSEC6B.dta\"))\n",
    "poult_lvst_11 <- read.dta13(paste0(path_work,\"00_RawData/2010-11/Agriculture/AGSEC6C.dta\"))\n",
    "\n",
    "#-------------\n",
    "##### 2011-2012\n",
    "#-------------\n",
    "large_lvst_12 <- read.dta13(paste0(path_work,\"00_RawData/2011-12/Agriculture/AGSEC6A.dta\"))\n",
    "small_lvst_12 <- read.dta13(paste0(path_work,\"00_RawData/2011-12/Agriculture/AGSEC6B.dta\"))\n",
    "poult_lvst_12 <- read.dta13(paste0(path_work,\"00_RawData/2011-12/Agriculture/AGSEC6C.dta\"))\n",
    "\n",
    "#-------------\n",
    "##### 2013-14\n",
    "#-------------\n",
    "large_lvst_14 <- read.dta13(paste0(path_work,\"00_RawData/2013-14/AGSEC6A.dta\"))\n",
    "small_lvst_14 <- read.dta13(paste0(path_work,\"00_RawData/2013-14/AGSEC6B.dta\"))\n",
    "poult_lvst_14 <- read.dta13(paste0(path_work,\"00_RawData/2013-14/AGSEC6C.dta\"))"
   ]
  },
  {
   "cell_type": "code",
   "execution_count": null,
   "metadata": {},
   "outputs": [],
   "source": []
  },
  {
   "cell_type": "markdown",
   "metadata": {},
   "source": [
    "# Get Data"
   ]
  },
  {
   "cell_type": "code",
   "execution_count": 24,
   "metadata": {},
   "outputs": [
    {
     "name": "stderr",
     "output_type": "stream",
     "text": [
      "Joining, by = \"HHID\"\n",
      "Joining, by = \"HHID\"\n"
     ]
    }
   ],
   "source": [
    "###  Get Data\n",
    "############################\n",
    "get_na_zero <- function(x) { ifelse(is.finite(x),x,0) }\n",
    "  \n",
    "#-------------\n",
    "##### 2005-2006\n",
    "#-------------\n",
    "large_06 <- large_lvst_06 %>% filter(a10aq4==\"yes\") %>% group_by(HHID) %>% summarise(lvst_large=sum(a10aq5,na.rm=TRUE))\n",
    "small_06 <- small_lvst_06 %>% filter(a10bq4==\"yes\") %>% group_by(HHID) %>% summarise(lvst_small=sum(a10bq5,na.rm=TRUE))\n",
    "poult_06 <- poult_lvst_06 %>% filter(a10cq4==\"yes\") %>% group_by(HHID) %>% summarise(lvst_poul=sum(a10cq5,na.rm=TRUE))\n",
    "lvst_06 <- large_06 %>% full_join(small_06) %>% full_join(poult_06) %>% transmute(HHID=HHID,lvst_large=get_na_zero(lvst_large),lvst_small=get_na_zero(lvst_small), lvst_poul=get_na_zero(lvst_poul))\n",
    " "
   ]
  },
  {
   "cell_type": "code",
   "execution_count": 25,
   "metadata": {},
   "outputs": [
    {
     "name": "stderr",
     "output_type": "stream",
     "text": [
      "Joining, by = \"HHID\"\n",
      "Joining, by = \"HHID\"\n"
     ]
    }
   ],
   "source": [
    "#-------------\n",
    "##### 2009-11\n",
    "#-------------\n",
    "large_10 <- large_lvst_10 %>% filter(a6aq4==\"Yes\") %>% group_by(HHID) %>% summarise(lvst_large=sum(a6aq7,na.rm=TRUE))\n",
    "small_10 <- small_lvst_10 %>% filter(a6bq4==\"Yes\") %>% group_by(HHID) %>% summarise(lvst_small=sum(a6bq7,na.rm=TRUE))\n",
    "poult_10 <- poult_lvst_10 %>% filter(a6cq4==\"Yes\") %>% group_by(HHID) %>% summarise(lvst_poul=sum(a6cq7,na.rm=TRUE))\n",
    "lvst_10 <- large_10 %>% full_join(small_10) %>% full_join(poult_10) %>% transmute(HHID=HHID,lvst_large=get_na_zero(lvst_large),lvst_small=get_na_zero(lvst_small), lvst_poul=get_na_zero(lvst_poul))\n",
    "  "
   ]
  },
  {
   "cell_type": "code",
   "execution_count": 26,
   "metadata": {},
   "outputs": [
    {
     "name": "stderr",
     "output_type": "stream",
     "text": [
      "Joining, by = \"HHID\"\n",
      "Joining, by = \"HHID\"\n"
     ]
    }
   ],
   "source": [
    "#-------------\n",
    "##### 2010-11\n",
    "#-------------\n",
    "large_11 <- large_lvst_10 %>% filter(a6aq4==\"Yes\") %>% group_by(HHID) %>% summarise(lvst_large=sum(a6aq7,na.rm=TRUE))\n",
    "small_11 <- small_lvst_10 %>% filter(a6bq4==\"Yes\") %>% group_by(HHID) %>% summarise(lvst_small=sum(a6bq7,na.rm=TRUE))\n",
    "poult_11 <- poult_lvst_10 %>% filter(a6cq4==\"Yes\") %>% group_by(HHID) %>% summarise(lvst_poul=sum(a6cq7,na.rm=TRUE))\n",
    "lvst_11 <- large_11 %>% full_join(small_11) %>% full_join(poult_11) %>% transmute(HHID=HHID,lvst_large=get_na_zero(lvst_large),lvst_small=get_na_zero(lvst_small), lvst_poul=get_na_zero(lvst_poul))\n",
    "  "
   ]
  },
  {
   "cell_type": "code",
   "execution_count": 27,
   "metadata": {},
   "outputs": [
    {
     "name": "stderr",
     "output_type": "stream",
     "text": [
      "Joining, by = \"HHID\"\n",
      "Joining, by = \"HHID\"\n"
     ]
    }
   ],
   "source": [
    "#-------------\n",
    "##### 2011-12\n",
    "#-------------\n",
    "large_12 <- large_lvst_12 %>% filter(a6aq2==\"Yes\") %>% group_by(HHID) %>% summarise(lvst_large=sum(a6aq3a,na.rm=TRUE))\n",
    "small_12 <- small_lvst_12 %>% filter(a6bq2==\"Yes\") %>% group_by(HHID) %>% summarise(lvst_small=sum(a6bq3a,na.rm=TRUE))\n",
    "poult_12 <- poult_lvst_12 %>% filter(a6cq2==\"Yes\") %>% group_by(HHID) %>% summarise(lvst_poul=sum(a6cq3a,na.rm=TRUE))\n",
    "lvst_12 <- large_12 %>% full_join(small_12) %>% full_join(poult_12) %>% transmute(HHID=HHID,lvst_large=get_na_zero(lvst_large),lvst_small=get_na_zero(lvst_small), lvst_poul=get_na_zero(lvst_poul))\n",
    "  "
   ]
  },
  {
   "cell_type": "code",
   "execution_count": null,
   "metadata": {},
   "outputs": [],
   "source": []
  },
  {
   "cell_type": "code",
   "execution_count": 28,
   "metadata": {},
   "outputs": [
    {
     "name": "stderr",
     "output_type": "stream",
     "text": [
      "Joining, by = \"hh\"\n",
      "Joining, by = \"hh\"\n"
     ]
    }
   ],
   "source": [
    "#-------------\n",
    "##### 2013-14\n",
    "#-------------\n",
    "large_14 <- large_lvst_14 %>% filter(a6aq2==\"Yes\") %>% group_by(hh) %>% summarise(lvst_large=sum(a6aq3a,na.rm=TRUE))\n",
    "small_14 <- small_lvst_14 %>% filter(a6bq2==\"Yes\") %>% group_by(hh) %>% summarise(lvst_small=sum(a6bq3a,na.rm=TRUE))\n",
    "poult_14 <- poult_lvst_14 %>% filter(a6cq2==\"Yes\") %>% group_by(hh) %>% summarise(lvst_poul=sum(a6cq3a,na.rm=TRUE))\n",
    "lvst_14 <- large_14 %>% full_join(small_14) %>% full_join(poult_14) %>% transmute(HHID=hh,lvst_large=get_na_zero(lvst_large),lvst_small=get_na_zero(lvst_small), lvst_poul=get_na_zero(lvst_poul))"
   ]
  },
  {
   "cell_type": "code",
   "execution_count": null,
   "metadata": {},
   "outputs": [],
   "source": []
  },
  {
   "cell_type": "code",
   "execution_count": 29,
   "metadata": {},
   "outputs": [],
   "source": [
    "lvst_11 <- lvst_11 %>% mutate(HHID=as.character(HHID))\n",
    "lvst_12 <- lvst_12 %>% mutate(HHID=as.character(HHID))\n",
    "  \n",
    "save(lvst_06,lvst_10,lvst_11,lvst_12,lvst_14,file=paste0(save_data,\"06_livestock_Jun2018.Rda\"))\n",
    "  \n",
    "  "
   ]
  }
 ],
 "metadata": {
  "kernelspec": {
   "display_name": "R",
   "language": "R",
   "name": "ir"
  },
  "language_info": {
   "codemirror_mode": "r",
   "file_extension": ".r",
   "mimetype": "text/x-r-source",
   "name": "R",
   "pygments_lexer": "r",
   "version": "3.3.3"
  }
 },
 "nbformat": 4,
 "nbformat_minor": 2
}
