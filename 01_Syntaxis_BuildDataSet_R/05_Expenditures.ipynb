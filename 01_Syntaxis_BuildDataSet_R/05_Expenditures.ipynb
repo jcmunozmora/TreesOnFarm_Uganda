{
 "cells": [
  {
   "cell_type": "code",
   "execution_count": 50,
   "metadata": {},
   "outputs": [
    {
     "name": "stderr",
     "output_type": "stream",
     "text": [
      "Warning message in read.dta13(paste0(path_work, \"00_RawData/2005-06/Household/GSEC14B.dta\")):\n",
      "“\n",
      "  h14bq2:\n",
      "  Duplicated factor levels detected - generating unique labels.\n",
      "”Warning message in read.dta13(paste0(path_work, \"00_RawData/2009-10/Household/GSEC15c.dta\")):\n",
      "“\n",
      "  h15cq2:\n",
      "  Duplicated factor levels detected - generating unique labels.\n",
      "”Warning message in read.dta13(paste0(path_work, \"00_RawData/2010-11/Household/GSEC15c.dta\")):\n",
      "“\n",
      "  h15cq3:\n",
      "  Missing factor labels - no labels assigned.\n",
      "  Set option generate.factors=T to generate labels.”Warning message in read.dta13(paste0(path_work, \"00_RawData/2011-12/Household/GSEC15c.dta\")):\n",
      "“\n",
      "  h15cq3:\n",
      "  Missing factor labels - no labels assigned.\n",
      "  Set option generate.factors=T to generate labels.”Warning message in read.dta13(paste0(path_work, \"00_RawData/2013-14/GSEC15b.dta\")):\n",
      "“\n",
      "  itmcd:\n",
      "  Duplicated factor levels detected - generating unique labels.\n",
      "”Warning message in read.dta13(paste0(path_work, \"00_RawData/2013-14/GSEC15b.dta\")):\n",
      "“\n",
      "  untcd:\n",
      "  Missing factor labels - no labels assigned.\n",
      "  Set option generate.factors=T to generate labels.”Warning message in read.dta13(paste0(path_work, \"00_RawData/2013-14/GSEC15c.dta\")):\n",
      "“\n",
      "  itmcd:\n",
      "  Missing factor labels - no labels assigned.\n",
      "  Set option generate.factors=T to generate labels.”Warning message in read.dta13(paste0(path_work, \"00_RawData/2013-14/GSEC15c.dta\")):\n",
      "“\n",
      "  h15cq3:\n",
      "  Missing factor labels - no labels assigned.\n",
      "  Set option generate.factors=T to generate labels.”"
     ]
    }
   ],
   "source": [
    "##### Package\n",
    "library(\"readstata13\")\n",
    "library(plyr)\n",
    "library(dplyr)\n",
    "library(tidyr)\n",
    "\n",
    "### Directories\n",
    "path_work <- \"/Users/juancarlosmunoz/Box Sync/Uganda_LSMS/\"\n",
    "graph_path <- \"/Users/juancarlosmunoz/Box Sync/Uganda_LSMS/05_Paper/Graph/\"\n",
    "save_data <-  \"/Users/juancarlosmunoz/Box Sync/Uganda_LSMS/05_Analysis/\"\n",
    "path_who <- \"/Users/juancarlosmunoz/Box Sync/Uganda_LSMS/05_Analysis/inputs/\"\n",
    "\n",
    "###########################\n",
    "###  Expenditures\n",
    "############################\n",
    "\n",
    "  #-------------\n",
    "  ##### 2005-2006\n",
    "  #-------------\n",
    "  exp_food_06 <- read.dta13(paste0(path_work,\"00_RawData/2005-06/Household/GSEC14A.dta\"),convert.factors = FALSE)\n",
    "  exp_nondurable_06 <- read.dta13(paste0(path_work,\"00_RawData/2005-06/Household/GSEC14B.dta\"))\n",
    "  exp_durable_06 <- read.dta13(paste0(path_work,\"00_RawData/2005-06/Household/GSEC14C.dta\"))\n",
    "\n",
    "  #-------------\n",
    "  ##### 2009-2010\n",
    "  #-------------\n",
    "  exp_food_10 <- read.dta13(paste0(path_work,\"00_RawData/2009-10/Household/GSEC15b.dta\"),convert.factors = FALSE)\n",
    "  exp_nondurable_10 <- read.dta13(paste0(path_work,\"00_RawData/2009-10/Household/GSEC15c.dta\"))\n",
    "  exp_durable_10 <- read.dta13(paste0(path_work,\"00_RawData/2009-10/Household/GSEC15d.dta\"))\n",
    "\n",
    "  #-------------\n",
    "  ##### 2010-2011\n",
    "  #-------------\n",
    "  exp_food_11 <- read.dta13(paste0(path_work,\"00_RawData/2010-11/Household/GSEC15b.dta\"),convert.factors = FALSE)\n",
    "  exp_nondurable_11 <- read.dta13(paste0(path_work,\"00_RawData/2010-11/Household/GSEC15c.dta\"))\n",
    "  exp_durable_11 <- read.dta13(paste0(path_work,\"00_RawData/2010-11/Household/GSEC15d.dta\"))\n",
    "  \n",
    "  #-------------\n",
    "  ##### 2011-2012\n",
    "  #-------------\n",
    "  exp_food_12 <- read.dta13(paste0(path_work,\"00_RawData/2011-12/Household/GSEC15b.dta\"),convert.factors = FALSE)\n",
    "  exp_nondurable_12 <- read.dta13(paste0(path_work,\"00_RawData/2011-12/Household/GSEC15c.dta\"))\n",
    "  exp_durable_12 <- read.dta13(paste0(path_work,\"00_RawData/2011-12/Household/GSEC15d.dta\"))\n",
    "  \n",
    "  #-------------\n",
    "  ##### 2013-14\n",
    "  #-------------\n",
    "  exp_food_14 <- read.dta13(paste0(path_work,\"00_RawData/2013-14/GSEC15b.dta\"))\n",
    "  exp_nondurable_14 <- read.dta13(paste0(path_work,\"00_RawData/2013-14/GSEC15c.dta\"))\n",
    "  exp_durable_14 <- read.dta13(paste0(path_work,\"00_RawData/2013-14/GSEC15d.dta\"))"
   ]
  },
  {
   "cell_type": "code",
   "execution_count": 51,
   "metadata": {},
   "outputs": [
    {
     "name": "stderr",
     "output_type": "stream",
     "text": [
      "Warning message in read.dta13(paste0(path_work, \"00_RawData/2005-06/Household/GSEC1.dta\")):\n",
      "“\n",
      "  region:\n",
      "  Missing factor labels - no labels assigned.\n",
      "  Set option generate.factors=T to generate labels.”Warning message in read.dta13(paste0(path_work, \"00_RawData/2005-06/Household/GSEC1.dta\")):\n",
      "“\n",
      "  urban:\n",
      "  Missing factor labels - no labels assigned.\n",
      "  Set option generate.factors=T to generate labels.”Warning message in read.dta13(paste0(path_work, \"00_RawData/2009-10/Household/GSEC1.dta\")):\n",
      "“\n",
      "  regurb:\n",
      "  Missing factor labels - no labels assigned.\n",
      "  Set option generate.factors=T to generate labels.”Warning message in read.dta13(paste0(path_work, \"00_RawData/2010-11/Household/GSEC1.dta\")):\n",
      "“\n",
      "  reason:\n",
      "  Missing factor labels - no labels assigned.\n",
      "  Set option generate.factors=T to generate labels.”Warning message in read.dta13(paste0(path_work, \"00_RawData/2011-12/Household/GSEC1.dta\")):\n",
      "“\n",
      "  regurb:\n",
      "  Missing factor labels - no labels assigned.\n",
      "  Set option generate.factors=T to generate labels.”Warning message in read.dta13(paste0(path_work, \"00_RawData/2011-12/Household/GSEC1.dta\")):\n",
      "“\n",
      "  reason:\n",
      "  Missing factor labels - no labels assigned.\n",
      "  Set option generate.factors=T to generate labels.”Warning message in read.dta13(paste0(path_work, \"00_RawData/2013-14/GSEC1.dta\")):\n",
      "“\n",
      "  urban:\n",
      "  Duplicated factor levels detected - generating unique labels.\n",
      "”"
     ]
    }
   ],
   "source": [
    "###########################\n",
    "## Imputation \n",
    "############################\n",
    "  \n",
    "  ##### Household Roster\n",
    "  hh_roster_06 <- read.dta13(paste0(path_work,\"00_RawData/2005-06/Household/GSEC1.dta\")) %>% select(HHID,region)\n",
    "  hh_roster_10 <- read.dta13(paste0(path_work,\"00_RawData/2009-10/Household/GSEC1.dta\")) %>% select(HHID,region)\n",
    "  hh_roster_11 <- read.dta13(paste0(path_work,\"00_RawData/2010-11/Household/GSEC1.dta\")) %>% select(HHID,region)\n",
    "  hh_roster_12 <- read.dta13(paste0(path_work,\"00_RawData/2011-12/Household/GSEC1.dta\")) %>% select(HHID,region)\n",
    "  hh_roster_14 <- read.dta13(paste0(path_work,\"00_RawData/2013-14/GSEC1.dta\")) %>% select(HHID,region)\n",
    " "
   ]
  },
  {
   "cell_type": "markdown",
   "metadata": {
    "heading_collapsed": true
   },
   "source": [
    "# Food Expenditures"
   ]
  },
  {
   "cell_type": "code",
   "execution_count": 52,
   "metadata": {
    "hidden": true
   },
   "outputs": [],
   "source": [
    "\n",
    "  \n",
    "  ##--- Food Expenditure\n",
    "get_exp_food <- function(x,day) {\n",
    "  colnames(x) <- c(\"HHID\",\"q_pur\",\"q_aw\",\"q_ow\",\"q_fre\",\"p_pur\",\"p_aw\",\"p_ow\",\"p_fre\")\n",
    "  x <- x %>% group_by(HHID) %>%\n",
    "    summarize(quantitypurch=sum(q_pur,na.rm=TRUE),\n",
    "              quantityaway=sum(q_aw,na.rm=TRUE),\n",
    "              quantityown=sum(q_ow,na.rm=TRUE),\n",
    "              quantityfree=sum(q_fre,na.rm=TRUE),\n",
    "              valuepurch=sum(p_pur,na.rm=TRUE),\n",
    "              valueaway=sum(p_aw,na.rm=TRUE),\n",
    "              valueown=sum(p_ow,na.rm=TRUE),\n",
    "              valuefree=sum(p_fre,na.rm=TRUE)) %>% transmute(HHID=as.character(HHID),exp_food=(valuepurch+valueaway+valueown+valuefree)*day,exp_food_pur=valuepurch,exp_food_away=valueaway,exp_food_own=valueown,exp_food_free=valuefree)\n",
    "  return(x)\n",
    "}\n",
    "  \n",
    "  ##--- Imputation Ins\n",
    "  imputeout <- function(var,hh_region) {\n",
    "    org_na <- colnames(var)\n",
    "    #### Gen the Avarege per Region\n",
    "    colnames(hh_region)=c(\"HHID\",\"region\")\n",
    "    colnames(var)=c(\"HHID\",\"var1\")\n",
    "    ### Over Variables\n",
    "    var_reg <- var %>% inner_join(hh_region) %>% group_by(region) %>% summarise(sd=sd(var1,na.rm=TRUE),med=median(var1,na.rm=TRUE))\n",
    "    #### Change Value\n",
    "    var <- var %>% inner_join(hh_region) %>% inner_join(var_reg) %>% mutate(imp=ifelse(var1<(med-3*sd)|var1>(med+3*sd),med,var1)) %>% select(-region,-med,-sd,-var1)\n",
    "    #### Labelts\n",
    "    colnames(var) <- org_na\n",
    "    return(var)\n",
    "  }\n",
    "  \n",
    "  #### Inputation Food\n",
    "  get_food <- function(food1,dat) {\n",
    "    food <- food1\n",
    "    exp_food <- imputeout(food[,c(\"HHID\",\"exp_food\")],dat)\n",
    "    exp_food_pur <- imputeout(food[,c(\"HHID\",\"exp_food_pur\")],dat)\n",
    "    exp_food_away <- imputeout(food[,c(\"HHID\",\"exp_food_away\")],dat)\n",
    "    exp_food_own <- imputeout(food[,c(\"HHID\",\"exp_food_own\")],dat)\n",
    "    exp_food_free <- imputeout(food[,c(\"HHID\",\"exp_food_free\")],dat)\n",
    "    ### end\n",
    "    end <- join_all(list(exp_food,exp_food_pur,exp_food_away,exp_food_own,exp_food_free),by=\"HHID\",type=\"left\")\n",
    "    return(end)\n",
    "  }"
   ]
  },
  {
   "cell_type": "code",
   "execution_count": 53,
   "metadata": {
    "hidden": true
   },
   "outputs": [
    {
     "name": "stderr",
     "output_type": "stream",
     "text": [
      "Joining, by = \"HHID\"\n",
      "Joining, by = \"HHID\"\n",
      "Joining, by = \"region\"\n",
      "Joining, by = \"HHID\"\n",
      "Joining, by = \"HHID\"\n",
      "Joining, by = \"region\"\n",
      "Joining, by = \"HHID\"\n",
      "Joining, by = \"HHID\"\n",
      "Joining, by = \"region\"\n",
      "Joining, by = \"HHID\"\n",
      "Joining, by = \"HHID\"\n",
      "Joining, by = \"region\"\n",
      "Joining, by = \"HHID\"\n",
      "Joining, by = \"HHID\"\n",
      "Joining, by = \"region\"\n",
      "Joining, by = \"HHID\"\n",
      "Joining, by = \"HHID\"\n",
      "Joining, by = \"region\"\n",
      "Joining, by = \"HHID\"\n",
      "Joining, by = \"HHID\"\n",
      "Joining, by = \"region\"\n",
      "Joining, by = \"HHID\"\n",
      "Joining, by = \"HHID\"\n",
      "Joining, by = \"region\"\n",
      "Joining, by = \"HHID\"\n",
      "Joining, by = \"HHID\"\n",
      "Joining, by = \"region\"\n",
      "Joining, by = \"HHID\"\n",
      "Joining, by = \"HHID\"\n",
      "Joining, by = \"region\"\n",
      "Joining, by = \"HHID\"\n",
      "Joining, by = \"HHID\"\n",
      "Joining, by = \"region\"\n",
      "Joining, by = \"HHID\"\n",
      "Joining, by = \"HHID\"\n",
      "Joining, by = \"region\"\n",
      "Joining, by = \"HHID\"\n",
      "Joining, by = \"HHID\"\n",
      "Joining, by = \"region\"\n",
      "Joining, by = \"HHID\"\n",
      "Joining, by = \"HHID\"\n",
      "Joining, by = \"region\"\n",
      "Joining, by = \"HHID\"\n",
      "Joining, by = \"HHID\"\n",
      "Joining, by = \"region\"\n",
      "Joining, by = \"HHID\"\n",
      "Joining, by = \"HHID\"\n",
      "Joining, by = \"region\"\n",
      "Joining, by = \"HHID\"\n",
      "Joining, by = \"HHID\"\n",
      "Joining, by = \"region\"\n",
      "Joining, by = \"HHID\"\n",
      "Joining, by = \"HHID\"\n",
      "Joining, by = \"region\"\n",
      "Joining, by = \"HHID\"\n",
      "Joining, by = \"HHID\"\n",
      "Joining, by = \"region\"\n",
      "Joining, by = \"HHID\"\n",
      "Joining, by = \"HHID\"\n",
      "Joining, by = \"region\"\n",
      "Joining, by = \"HHID\"\n",
      "Joining, by = \"HHID\"\n",
      "Joining, by = \"region\"\n",
      "Joining, by = \"HHID\"\n",
      "Joining, by = \"HHID\"\n",
      "Joining, by = \"region\"\n",
      "Joining, by = \"HHID\"\n",
      "Joining, by = \"HHID\"\n",
      "Joining, by = \"region\"\n",
      "Joining, by = \"HHID\"\n",
      "Joining, by = \"HHID\"\n",
      "Joining, by = \"region\"\n",
      "Joining, by = \"HHID\"\n",
      "Joining, by = \"HHID\"\n",
      "Joining, by = \"region\"\n"
     ]
    }
   ],
   "source": [
    "### FOOD Consumption  \n",
    "food_06 <- get_food(get_exp_food(exp_food_06[,c(\"HHID\",\"h14aq4\",\"h14aq6\",\"h14aq8\",\"h14aq10\",\"h14aq5\",\"h14aq7\",\"h14aq9\",\"h14aq11\")],52),hh_roster_06)\n",
    "food_10 <-get_food(get_exp_food(exp_food_10[,c(\"hh\",\"h15bq4\",\"h15bq6\",\"h15bq8\",\"h15bq10\",\"h15bq5\",\"h15bq7\",\"h15bq9\",\"h15bq11\")],52),hh_roster_10)\n",
    "\n",
    "food_11 <-get_food(get_exp_food(exp_food_11[,c(\"hh\",\"h15bq4\",\"h15bq6\",\"h15bq8\",\"h15bq10\",\"h15bq5\",\"h15bq7\",\"h15bq9\",\"h15bq11\")],52),hh_roster_11)\n",
    "food_12 <-get_food(get_exp_food(exp_food_12[,c(\"HHID\",\"h15bq4\",\"h15bq6\",\"h15bq8\",\"h15bq10\",\"h15bq5\",\"h15bq7\",\"h15bq9\",\"h15bq11\")],52),hh_roster_12)\n",
    "\n",
    "food_14 <-get_food(get_exp_food(exp_food_14[,c(\"HHID\",\"h15bq4\",\"h15bq6\",\"h15bq8\",\"h15bq10\",\"h15bq5\",\"h15bq7\",\"h15bq9\",\"h15bq11\")],52),hh_roster_14)\n",
    "  "
   ]
  },
  {
   "cell_type": "markdown",
   "metadata": {},
   "source": [
    "# No Durables"
   ]
  },
  {
   "cell_type": "code",
   "execution_count": 54,
   "metadata": {},
   "outputs": [],
   "source": [
    "##--- \n",
    "get_exp_nondurable <- function(x,name,day) {\n",
    "    colnames(x) <- c(\"HHID\",\"q_pur\",\"q_ow\",\"q_fre\",\"p_pur\",\"p_ow\",\"p_fre\")\n",
    "    x <- x %>% group_by(HHID) %>%\n",
    "      summarize(quantitypurch=sum(q_pur,na.rm=TRUE),\n",
    "                quantityown=sum(q_ow,na.rm=TRUE),\n",
    "                quantityfree=sum(q_fre,na.rm=TRUE),\n",
    "                valuepurch=sum(p_pur,na.rm=TRUE),\n",
    "                valueown=sum(p_ow,na.rm=TRUE),\n",
    "                valuefree=sum(p_fre,na.rm=TRUE)) %>% transmute(HHID=as.character(HHID),exp=(valuepurch+valueown+valuefree)*day)\n",
    "    colnames(x) <- c(\"HHID\",name)\n",
    "    return(x)\n",
    "  }\n",
    "                                                 "
   ]
  },
  {
   "cell_type": "code",
   "execution_count": 55,
   "metadata": {},
   "outputs": [
    {
     "name": "stderr",
     "output_type": "stream",
     "text": [
      "Joining, by = \"HHID\"\n",
      "Joining, by = \"HHID\"\n",
      "Joining, by = \"region\"\n",
      "Joining, by = \"HHID\"\n",
      "Joining, by = \"HHID\"\n",
      "Joining, by = \"region\"\n",
      "Joining, by = \"HHID\"\n",
      "Joining, by = \"HHID\"\n",
      "Joining, by = \"region\"\n",
      "Joining, by = \"HHID\"\n",
      "Joining, by = \"HHID\"\n",
      "Joining, by = \"region\"\n",
      "Joining, by = \"HHID\"\n",
      "Joining, by = \"HHID\"\n",
      "Joining, by = \"region\"\n"
     ]
    }
   ],
   "source": [
    "### No Durables\n",
    "  \n",
    "nodu_06 <-imputeout(get_exp_nondurable(exp_nondurable_06[,c(\"HHID\",\"h14bq4\",\"h14bq6\",\"h14bq8\",\"h14bq5\",\"h14bq7\",\"h14bq9\")],\"exp_nodurable\",12),hh_roster_06)\n",
    " \n",
    "nodu_10 <-imputeout(get_exp_nondurable(exp_nondurable_10[,c(\"hh\",\"h15cq4\",\"h15cq6\",\"h15cq8\",\"h15cq5\",\"h15cq7\",\"h15cq9\")],\"exp_nodurable\",12),hh_roster_10)\n",
    " \n",
    "nodu_11 <-imputeout(get_exp_nondurable(exp_nondurable_11[,c(\"hh\",\"h15cq4\",\"h15cq6\",\"h15cq8\",\"h15cq5\",\"h15cq7\",\"h15cq9\")],\"exp_nodurable\",12),hh_roster_11)\n",
    "  \n",
    "nodu_12 <-imputeout(get_exp_nondurable(exp_nondurable_12[,c(\"HHID\",\"h15cq4\",\"h15cq6\",\"h15cq8\",\"h15cq5\",\"h15cq7\",\"h15cq9\")],\"exp_nodurable\",12),hh_roster_12)\n",
    "  \n",
    "nodu_14 <-imputeout(get_exp_nondurable(exp_nondurable_14[,c(\"HHID\",\"h15cq4\",\"h15cq6\",\"h15cq8\",\"h15cq5\",\"h15cq7\",\"h15cq9\")],\"exp_nodurable\",12),hh_roster_14) \n",
    "  "
   ]
  },
  {
   "cell_type": "markdown",
   "metadata": {},
   "source": [
    "# Durables"
   ]
  },
  {
   "cell_type": "code",
   "execution_count": 56,
   "metadata": {},
   "outputs": [],
   "source": [
    "  ##--- Nodurable\n",
    "  ##--- \n",
    "  get_exp_durable <- function(x,name,day) {\n",
    "    colnames(x) <- c(\"HHID\",\"p_pur\",\"p_ow\",\"p_fre\")\n",
    "    x <- x %>% group_by(HHID) %>%\n",
    "      summarize(valuepurch=sum(p_pur,na.rm=TRUE),\n",
    "                valueown=sum(p_ow,na.rm=TRUE),\n",
    "                valuefree=sum(p_fre,na.rm=TRUE)) %>% transmute(HHID=as.character(HHID),exp=(valuepurch+valueown+valuefree)*day)\n",
    "    colnames(x) <- c(\"HHID\",name)\n",
    "    return(x)\n",
    "  }\n",
    "  "
   ]
  },
  {
   "cell_type": "code",
   "execution_count": 57,
   "metadata": {},
   "outputs": [
    {
     "data": {
      "text/html": [
       "<ol class=list-inline>\n",
       "\t<li>'hh'</li>\n",
       "\t<li>'h15dq2'</li>\n",
       "\t<li>'h15dq3'</li>\n",
       "\t<li>'h15dq4'</li>\n",
       "\t<li>'h15dq5'</li>\n",
       "</ol>\n"
      ],
      "text/latex": [
       "\\begin{enumerate*}\n",
       "\\item 'hh'\n",
       "\\item 'h15dq2'\n",
       "\\item 'h15dq3'\n",
       "\\item 'h15dq4'\n",
       "\\item 'h15dq5'\n",
       "\\end{enumerate*}\n"
      ],
      "text/markdown": [
       "1. 'hh'\n",
       "2. 'h15dq2'\n",
       "3. 'h15dq3'\n",
       "4. 'h15dq4'\n",
       "5. 'h15dq5'\n",
       "\n",
       "\n"
      ],
      "text/plain": [
       "[1] \"hh\"     \"h15dq2\" \"h15dq3\" \"h15dq4\" \"h15dq5\""
      ]
     },
     "metadata": {},
     "output_type": "display_data"
    },
    {
     "name": "stderr",
     "output_type": "stream",
     "text": [
      "Joining, by = \"HHID\"\n",
      "Joining, by = \"HHID\"\n",
      "Joining, by = \"region\"\n",
      "Joining, by = \"HHID\"\n",
      "Joining, by = \"HHID\"\n",
      "Joining, by = \"region\"\n",
      "Joining, by = \"HHID\"\n",
      "Joining, by = \"HHID\"\n",
      "Joining, by = \"region\"\n",
      "Joining, by = \"HHID\"\n",
      "Joining, by = \"HHID\"\n",
      "Joining, by = \"region\"\n",
      "Joining, by = \"HHID\"\n",
      "Joining, by = \"HHID\"\n",
      "Joining, by = \"region\"\n"
     ]
    }
   ],
   "source": [
    "### No Durables\n",
    "colnames(exp_durable_10)\n",
    "du_06 <-imputeout(get_exp_durable(exp_durable_06[,c(\"HHID\",\"h14cq3\",\"h14cq4\",\"h14cq5\")],\"exp_durable\",1),hh_roster_06)\n",
    " \n",
    "du_10 <-imputeout(get_exp_durable(exp_durable_10[,c(\"hh\",\"h15dq3\",\"h15dq4\",\"h15dq5\")],\"exp_durable\",1),hh_roster_10)\n",
    " \n",
    "du_11 <-imputeout(get_exp_durable(exp_durable_11[,c(\"hh\",\"h15dq5\",\"h15dq7\",\"h15dq9\")],\"exp_durable\",1),hh_roster_11)\n",
    "  \n",
    "du_12 <-imputeout(get_exp_durable(exp_durable_12[,c(\"HHID\",\"h15dq5\",\"h15dq7\",\"h15dq9\")],\"exp_durable\",1),hh_roster_12)\n",
    "  \n",
    "du_14 <-imputeout(get_exp_durable(exp_durable_14[,c(\"HHID\",\"h15dq3\",\"h15dq4\",\"h15dq5\")],\"exp_durable\",1),hh_roster_14)"
   ]
  },
  {
   "cell_type": "markdown",
   "metadata": {},
   "source": [
    "# Create the Data Set"
   ]
  },
  {
   "cell_type": "code",
   "execution_count": 58,
   "metadata": {},
   "outputs": [],
   "source": [
    "###########################\n",
    "###  expenditures\n",
    "############################\n",
    "  \n",
    "# 2005-06\n",
    "exp_06 <- join_all(list(food_06,nodu_06,du_06),by=\"HHID\",type=\"full\") %>% \n",
    "    mutate(tot_exp=(exp_food+exp_nodurable+exp_durable))\n",
    "\n",
    "# 2009-10\n",
    "exp_10 <- join_all(list(food_10,nodu_10,du_10),by=\"HHID\",type=\"full\") %>% \n",
    "        mutate(tot_exp=(exp_food+exp_nodurable+exp_durable),HHID=as.character(HHID))\n",
    "  \n",
    "# 2010-11\n",
    "exp_11 <- join_all(list(food_11,nodu_11,du_11),by=\"HHID\",type=\"full\") %>% \n",
    "        mutate(tot_exp=(exp_food+exp_nodurable+exp_durable),HHID=as.character(HHID))\n",
    "\n",
    "# 2011-12\n",
    "exp_12 <- join_all(list(food_12,nodu_12,du_12),by=\"HHID\",type=\"full\") %>% \n",
    "        mutate(tot_exp=(exp_food+exp_nodurable+exp_durable),HHID=as.character(HHID))\n",
    "\n",
    "# 2013-14\n",
    "exp_14 <- join_all(list(food_14,nodu_14,du_14),by=\"HHID\",type=\"full\") %>% \n",
    "        mutate(tot_exp=(exp_food+exp_nodurable+exp_durable),HHID=as.character(HHID))"
   ]
  },
  {
   "cell_type": "code",
   "execution_count": null,
   "metadata": {},
   "outputs": [],
   "source": []
  },
  {
   "cell_type": "code",
   "execution_count": 59,
   "metadata": {},
   "outputs": [],
   "source": [
    "save(exp_06,exp_10,exp_11,exp_12,exp_14,file=paste0(save_data,\"05_expenditure_Jun2018.Rda\"))"
   ]
  },
  {
   "cell_type": "code",
   "execution_count": null,
   "metadata": {},
   "outputs": [],
   "source": [
    "  "
   ]
  }
 ],
 "metadata": {
  "kernelspec": {
   "display_name": "R",
   "language": "R",
   "name": "ir"
  },
  "language_info": {
   "codemirror_mode": "r",
   "file_extension": ".r",
   "mimetype": "text/x-r-source",
   "name": "R",
   "pygments_lexer": "r",
   "version": "3.3.3"
  }
 },
 "nbformat": 4,
 "nbformat_minor": 2
}
