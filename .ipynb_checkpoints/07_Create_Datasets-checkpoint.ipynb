{
 "cells": [
  {
   "cell_type": "markdown",
   "metadata": {},
   "source": [
    "# Uganda Panel: Create the Data Set\n",
    "\n"
   ]
  },
  {
   "cell_type": "code",
   "execution_count": 66,
   "metadata": {},
   "outputs": [],
   "source": [
    "##################\n",
    "##### Package\n",
    "#################\n",
    "\n",
    "###--- Data Managment\n",
    "  library(readstata13)\n",
    "  library(plyr)\n",
    "  library(dplyr)\n",
    "  library(tidyr)\n",
    "  library(foreign) ## Export Data \n",
    "  \n",
    "  ###--- OLS\n",
    "  library(stargazer) # Get tables print\n",
    "  library(lmtest)\n",
    "  library(multiwayvcov)\n",
    "  library(sandwich)\n",
    "\n",
    "  \n",
    "  ### Directories\n",
    "  path_work <- \"/Users/juancarlosmunoz/Box Sync/Uganda_LSMS/\"\n",
    "  graph_path <- \"/Users/juancarlosmunoz/Box Sync/Uganda_LSMS/05_Paper/Graph/\"\n",
    "  save_data <-  \"/Users/juancarlosmunoz/Box Sync/Uganda_LSMS/05_Analysis/\"\n",
    "  path_who <- \"/Users/juancarlosmunoz/Box Sync/Uganda_LSMS/05_Analysis/inputs/\"\n",
    "  tables_path <- \"/Users/juancarlosmunoz/Box Sync/Uganda_LSMS/06_Paper/tablets/\"\n",
    "  graph_path <- \"/Users/juancarlosmunoz/Box Sync/Uganda_LSMS/06_Paper/Graph/\""
   ]
  },
  {
   "cell_type": "markdown",
   "metadata": {},
   "source": [
    "# Loading Data"
   ]
  },
  {
   "cell_type": "code",
   "execution_count": 101,
   "metadata": {},
   "outputs": [],
   "source": [
    "    #### 01 - Households Controls (ID - OK)\n",
    "    load(paste0(save_data,\"00_hhcontrols_Jun2018.Rda\"))\n",
    "\n",
    "  #### 03 - Agricultural Controls ()||@|… \n",
    "  load(paste0(save_data,\"03_agr_controls_June2017.Rda\"))\n",
    "\n",
    "  #### 04 - Gross Agricultural Income\n",
    "  load(paste0(save_data,\"04_inc_gross_inc_Jun2018.Rda\"))\n",
    "\n",
    "    #### 05 - Expenditures\n",
    "  load(paste0(save_data,\"05_expenditure_Jun2018.Rda\"))\n",
    "\n",
    "    #### 05 - Expenditures\n",
    "  load(paste0(save_data,\"06_livestock_Jun2018.Rda\"))\n"
   ]
  },
  {
   "cell_type": "markdown",
   "metadata": {},
   "source": [
    "# Get the Share (descriptive)"
   ]
  },
  {
   "cell_type": "code",
   "execution_count": 6,
   "metadata": {},
   "outputs": [
    {
     "data": {
      "text/html": [
       "<table>\n",
       "<thead><tr><th scope=col>share_fruit</th><th scope=col>share_cash</th></tr></thead>\n",
       "<tbody>\n",
       "\t<tr><td>0.4938758</td><td>0.2611549</td></tr>\n",
       "</tbody>\n",
       "</table>\n"
      ],
      "text/latex": [
       "\\begin{tabular}{r|ll}\n",
       " share\\_fruit & share\\_cash\\\\\n",
       "\\hline\n",
       "\t 0.4938758 & 0.2611549\\\\\n",
       "\\end{tabular}\n"
      ],
      "text/markdown": [
       "\n",
       "share_fruit | share_cash | \n",
       "|---|\n",
       "| 0.4938758 | 0.2611549 | \n",
       "\n",
       "\n"
      ],
      "text/plain": [
       "  share_fruit share_cash\n",
       "1 0.4938758   0.2611549 "
      ]
     },
     "metadata": {},
     "output_type": "display_data"
    },
    {
     "data": {
      "text/html": [
       "<table>\n",
       "<thead><tr><th scope=col>share_fruit</th><th scope=col>share_cash</th></tr></thead>\n",
       "<tbody>\n",
       "\t<tr><td>0.2307033</td><td>0.2045455</td></tr>\n",
       "</tbody>\n",
       "</table>\n"
      ],
      "text/latex": [
       "\\begin{tabular}{r|ll}\n",
       " share\\_fruit & share\\_cash\\\\\n",
       "\\hline\n",
       "\t 0.2307033 & 0.2045455\\\\\n",
       "\\end{tabular}\n"
      ],
      "text/markdown": [
       "\n",
       "share_fruit | share_cash | \n",
       "|---|\n",
       "| 0.2307033 | 0.2045455 | \n",
       "\n",
       "\n"
      ],
      "text/plain": [
       "  share_fruit share_cash\n",
       "1 0.2307033   0.2045455 "
      ]
     },
     "metadata": {},
     "output_type": "display_data"
    },
    {
     "data": {
      "text/html": [
       "<table>\n",
       "<thead><tr><th scope=col>share_fruit</th><th scope=col>share_cash</th></tr></thead>\n",
       "<tbody>\n",
       "\t<tr><td>0.4983607</td><td>0.2398126</td></tr>\n",
       "</tbody>\n",
       "</table>\n"
      ],
      "text/latex": [
       "\\begin{tabular}{r|ll}\n",
       " share\\_fruit & share\\_cash\\\\\n",
       "\\hline\n",
       "\t 0.4983607 & 0.2398126\\\\\n",
       "\\end{tabular}\n"
      ],
      "text/markdown": [
       "\n",
       "share_fruit | share_cash | \n",
       "|---|\n",
       "| 0.4983607 | 0.2398126 | \n",
       "\n",
       "\n"
      ],
      "text/plain": [
       "  share_fruit share_cash\n",
       "1 0.4983607   0.2398126 "
      ]
     },
     "metadata": {},
     "output_type": "display_data"
    },
    {
     "data": {
      "text/html": [
       "<table>\n",
       "<thead><tr><th scope=col>share_fruit</th><th scope=col>share_cash</th></tr></thead>\n",
       "<tbody>\n",
       "\t<tr><td>0.4734252</td><td>0.2327756</td></tr>\n",
       "</tbody>\n",
       "</table>\n"
      ],
      "text/latex": [
       "\\begin{tabular}{r|ll}\n",
       " share\\_fruit & share\\_cash\\\\\n",
       "\\hline\n",
       "\t 0.4734252 & 0.2327756\\\\\n",
       "\\end{tabular}\n"
      ],
      "text/markdown": [
       "\n",
       "share_fruit | share_cash | \n",
       "|---|\n",
       "| 0.4734252 | 0.2327756 | \n",
       "\n",
       "\n"
      ],
      "text/plain": [
       "  share_fruit share_cash\n",
       "1 0.4734252   0.2327756 "
      ]
     },
     "metadata": {},
     "output_type": "display_data"
    },
    {
     "data": {
      "text/html": [
       "<table>\n",
       "<thead><tr><th scope=col>share_fruit</th><th scope=col>share_cash</th></tr></thead>\n",
       "<tbody>\n",
       "\t<tr><td>0.44158  </td><td>0.2199584</td></tr>\n",
       "</tbody>\n",
       "</table>\n"
      ],
      "text/latex": [
       "\\begin{tabular}{r|ll}\n",
       " share\\_fruit & share\\_cash\\\\\n",
       "\\hline\n",
       "\t 0.44158   & 0.2199584\\\\\n",
       "\\end{tabular}\n"
      ],
      "text/markdown": [
       "\n",
       "share_fruit | share_cash | \n",
       "|---|\n",
       "| 0.44158   | 0.2199584 | \n",
       "\n",
       "\n"
      ],
      "text/plain": [
       "  share_fruit share_cash\n",
       "1 0.44158     0.2199584 "
      ]
     },
     "metadata": {},
     "output_type": "display_data"
    }
   ],
   "source": [
    "### Test DataSet\n",
    "f <- function(x) { ifelse(x>0,1,0)}\n",
    "    \n",
    "get_share <- function(inc_gross_agr_05) {inc_gross_agr_05 %>% ungroup(hhid) %>%  transmute(fruit=f(harv_q_fruit),cash=f(harv_q_cash)) %>% summarise(share_fruit=sum(fruit)/n(),share_cash=sum(cash)/n())}\n",
    "\n",
    "get_share(inc_gross_agr_06)\n",
    "get_share(inc_gross_agr_10)\n",
    "get_share(inc_gross_agr_11)\n",
    "get_share(inc_gross_agr_12)\n",
    "get_share(inc_gross_agr_14)\n",
    "    "
   ]
  },
  {
   "cell_type": "markdown",
   "metadata": {},
   "source": [
    "# Create Function"
   ]
  },
  {
   "cell_type": "code",
   "execution_count": 38,
   "metadata": {},
   "outputs": [],
   "source": [
    "##################\n",
    "##### Build Data Sets\n",
    "#################\n",
    "  \n",
    "    #### Function 2: Merge Data Set\n",
    "  mer_data <- function(text,defl) {\n",
    "\n",
    "    #### Variable\n",
    "    ##-------- MAIN --\n",
    "    data05_hh <- eval(parse(text =paste0(\"hhcontrols_\",text))) %>% \n",
    "    ### Land\n",
    "    left_join(eval(parse(text =paste0(\"agri_\",text)))) %>% select(-hhid) %>%\n",
    "    ## Expenditure \n",
    "    left_join(eval(parse(text =paste0(\"exp_\",text)))) %>%\n",
    "    ### Calorie intake\n",
    "    #left_join(eval(parse(text =paste0(\"itk_kcal_\",text)))) %>%\n",
    "    ### Income Agriculture\n",
    "    left_join(eval(parse(text =paste0(\"inc_gross_agr_\",text)))) %>%\n",
    "    ### Livestock\n",
    "    left_join(eval(parse(text =paste0(\"lvst_\",text)))) %>%\n",
    "    ### Clean Data\n",
    "    mutate_at(vars(sh_tof_w_b:lvst_poul),funs(((function(x){replace(x,is.na(x),0)})(.)))) %>%\n",
    "    #### Deflacted data\n",
    "      mutate_at(vars(exp_food:tot_exp,inc_fruit:inc_ag_total),funs(((function(x){x *defl})(.)))) %>%\n",
    "    #### Main variblaes\n",
    "      mutate(hhsize_ae=ifelse(hhsize_ae==0,hhsize,hhsize_ae)) %>%\n",
    "    ### Expenditure in Foor Per Capita\n",
    "      mutate(exp_food=exp_food_pur+exp_food_away+exp_food_own+exp_food_free) %>%\n",
    "    #   mutate_at(vars(exp_food:tot_exp),funs(((function(x){x/hhsize_ae})(.)))) %>%\n",
    "    ### Create the WAve Variable\n",
    "      mutate(wave=text)\n",
    "    \n",
    "    return(data05_hh)\n",
    "  }\n"
   ]
  },
  {
   "cell_type": "code",
   "execution_count": 105,
   "metadata": {},
   "outputs": [
    {
     "name": "stderr",
     "output_type": "stream",
     "text": [
      "Joining, by = \"HHID\"\n",
      "Joining, by = \"HHID\"\n",
      "Joining, by = \"HHID\"\n",
      "Joining, by = \"HHID\"\n",
      "Warning message in read.dta13(paste0(path_work, \"00_RawData/2013-14/GSEC1.dta\")):\n",
      "“\n",
      "  urban:\n",
      "  Duplicated factor levels detected - generating unique labels.\n",
      "”Joining, by = \"HHID\"\n",
      "Joining, by = \"HHID\"\n",
      "Joining, by = \"HHID\"\n",
      "Joining, by = \"HHID\"\n",
      "Joining, by = \"HHID_old\"\n",
      "Joining, by = \"HHID\"\n",
      "Joining, by = \"HHID\"\n",
      "Joining, by = \"HHID\"\n",
      "Joining, by = \"HHID\"\n",
      "Joining, by = \"HHID\"\n",
      "Joining, by = \"HHID\"\n",
      "Joining, by = \"HHID\"\n",
      "Joining, by = \"HHID\"\n",
      "Joining, by = \"HHID\"\n",
      "Joining, by = \"HHID\"\n",
      "Joining, by = \"HHID\"\n",
      "Joining, by = \"HHID\"\n",
      "Warning message in `[<-.factor`(`*tmp*`, ri, value = c(13L, NA, 15L, NA, 51L, 17L, :\n",
      "“invalid factor level, NA generated”Warning message in `[<-.factor`(`*tmp*`, ri, value = c(12L, NA, 16L, 15L, 17L, 17L, :\n",
      "“invalid factor level, NA generated”"
     ]
    }
   ],
   "source": [
    "dat06 <- mer_data(\"06\",1.520308938) %>% select(-sh_timber)\n",
    "\n",
    "### Fix dat14\n",
    "hh_roster_14 <- read.dta13(paste0(path_work,\"00_RawData/2013-14/GSEC1.dta\"))\n",
    "mer <- hh_roster_14 %>% transmute(HHID_old=HHID_old,hhid=HHID) %>% filter(!duplicated(hhid))\n",
    "dat14 <- mer_data(\"14\", 0.914632051) %>% mutate(comm=ea) %>% select(-HHID_05,-ea)\n",
    "\n",
    "hh_roster_14 <-hh_roster_14 %>% left_join(mer) %>% transmute(HHID=as.character(HHID_old)) \n",
    "\n",
    "panel <- rbind(dat06,mer_data(\"10\",1),mer_data(\"11\",1.094444912),mer_data(\"12\",0.991249995),dat14)\n"
   ]
  },
  {
   "cell_type": "code",
   "execution_count": 106,
   "metadata": {},
   "outputs": [
    {
     "data": {
      "text/plain": [
       "\n",
       "  06   10   11   12   14 \n",
       "3123 2975 2735 2850 3119 "
      ]
     },
     "metadata": {},
     "output_type": "display_data"
    }
   ],
   "source": [
    "table(panel$wave)"
   ]
  },
  {
   "cell_type": "code",
   "execution_count": 102,
   "metadata": {},
   "outputs": [
    {
     "name": "stderr",
     "output_type": "stream",
     "text": [
      "Joining, by = \"HHID\"\n",
      "Joining, by = \"HHID\"\n",
      "Joining, by = \"HHID\"\n",
      "Joining, by = \"HHID\"\n"
     ]
    },
    {
     "data": {
      "text/html": [
       "3119"
      ],
      "text/latex": [
       "3119"
      ],
      "text/markdown": [
       "3119"
      ],
      "text/plain": [
       "[1] 3119"
      ]
     },
     "metadata": {},
     "output_type": "display_data"
    }
   ],
   "source": [
    "dat14 <- mer_data(\"14\", 0.914632051) %>% mutate(comm=ea) %>% select(-HHID_05,-ea)\n",
    "\n",
    "length(dat14$HHID)"
   ]
  },
  {
   "cell_type": "code",
   "execution_count": 108,
   "metadata": {},
   "outputs": [
    {
     "ename": "ERROR",
     "evalue": "Error in write.dta(panel, file = paste0(save_data, \"Uganda_Panel_06282018.dta\")): empty string is not valid in Stata's documented format\n",
     "output_type": "error",
     "traceback": [
      "Error in write.dta(panel, file = paste0(save_data, \"Uganda_Panel_06282018.dta\")): empty string is not valid in Stata's documented format\nTraceback:\n",
      "1. write.dta(panel, file = paste0(save_data, \"Uganda_Panel_06282018.dta\"))"
     ]
    }
   ],
   "source": [
    "### Panel data\n",
    "write.csv(panel\n",
    "          ,file=paste0(save_data,\"Uganda_Panel_06282018.csv\"))\n",
    "  "
   ]
  },
  {
   "cell_type": "code",
   "execution_count": null,
   "metadata": {},
   "outputs": [],
   "source": [
    "  ### Households Level Data Sets\n",
    "  #data10_nutr <- nutr_10 %>% select(-pid_cg) %>% inner_join(data10_hh)\n",
    "  #data11_nutr <- nutr_11 %>% select(-pid_cg) %>% inner_join(data11_hh)\n",
    "  nutr_14$PID_Old[nchar(nutr_14$PID_Old)==0]=\"0\"\n",
    "  data14_nutr <- nutr_14 %>% inner_join(data14_hh)\n",
    "  \n",
    "  #### Save Data in Stata\n",
    "  \n",
    "  write.dta(data05_hh,paste0(save_data,\"data05_hh.dta\"))\n",
    "  \n",
    "  #write.dta(data10_hh,paste0(save_data,\"data10_hh.dta\"))\n",
    "  #write.dta(data10_nutr,paste0(save_data,\"data10_nutr.dta\"))\n",
    "  \n",
    "  #write.dta(data11_hh,paste0(save_data,\"data11_hh.dta\"))\n",
    "  #write.dta(data11_nutr,paste0(save_data,\"data11_nutr.dta\"))\n",
    "  \n",
    "  write.dta(data14_hh,paste0(save_data,\"data14_hh.dta\"))\n",
    "  write.dta(data14_nutr,paste0(save_data,\"data14_nutr.dta\"))\n",
    "  \n",
    "  #save(data05_hh,data10_hh,data14_hh,data10_nutr,data14_nutr,file=paste0(save_data,\"TreesOnFarm_Uganda_04012017.Rda\"))\n",
    "  \n",
    "  save(data05_hh,data14_hh,file=paste0(save_data,\"TreesOnFarm_Uganda_12012017.Rda\"))\n",
    "\n",
    "  "
   ]
  }
 ],
 "metadata": {
  "kernelspec": {
   "display_name": "R",
   "language": "R",
   "name": "ir"
  },
  "language_info": {
   "codemirror_mode": "r",
   "file_extension": ".r",
   "mimetype": "text/x-r-source",
   "name": "R",
   "pygments_lexer": "r",
   "version": "3.5.0"
  }
 },
 "nbformat": 4,
 "nbformat_minor": 2
}
