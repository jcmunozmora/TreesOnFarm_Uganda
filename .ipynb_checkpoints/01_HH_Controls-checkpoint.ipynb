{
 "cells": [
  {
   "cell_type": "code",
   "execution_count": 1,
   "metadata": {},
   "outputs": [
    {
     "name": "stderr",
     "output_type": "stream",
     "text": [
      "\n",
      "Attaching package: ‘dplyr’\n",
      "\n",
      "The following objects are masked from ‘package:plyr’:\n",
      "\n",
      "    arrange, count, desc, failwith, id, mutate, rename, summarise,\n",
      "    summarize\n",
      "\n",
      "The following objects are masked from ‘package:stats’:\n",
      "\n",
      "    filter, lag\n",
      "\n",
      "The following objects are masked from ‘package:base’:\n",
      "\n",
      "    intersect, setdiff, setequal, union\n",
      "\n"
     ]
    }
   ],
   "source": [
    "##### Package\n",
    "library(\"readstata13\")\n",
    "library(plyr)\n",
    "library(dplyr)\n",
    "library(tidyr)\n",
    "\n",
    "### Directories\n",
    "path_work <- \"/Users/juancarlosmunoz/Box Sync/Uganda_LSMS/\"\n",
    "graph_path <- \"/Users/juancarlosmunoz/Box Sync/Uganda_LSMS/05_Paper/Graph/\"\n",
    "save_data <-  \"/Users/juancarlosmunoz/Box Sync/Uganda_LSMS/05_Analysis/\""
   ]
  },
  {
   "cell_type": "markdown",
   "metadata": {},
   "source": [
    "# Household Size\n",
    "\n",
    " Adult Equivalent Uganda: \n",
    "\n",
    "The following equivalent scale is used in WB Uganda (1995):  An adult equivalent scale giving all the adults (18+) the weight one and the children a weight depending on their age.\n",
    "  - 0-11 mths --> 0.27\n",
    "  - 1         --> 0.37\n",
    "  - 2         --> 0.45\n",
    "  - 3-4       --> 0.52\n",
    "  - 5-6       --> 0.62\n",
    "  - 7-9       --> 0.70\n",
    "  - 10-11     --> 0.73\n",
    "  - 12-13     --> 0.80\n",
    "  - 14-15     --> 0.88\n",
    "  - 16-17     --> 0.95\n",
    "  - 18+       --> 1 \n",
    "\n",
    "Source: The following equivalent scale is used in WB Uganda (1995) - https://www.wider.unu.edu/sites/default/files/WIID/PDF/Uganda.pdf\n",
    "  "
   ]
  },
  {
   "cell_type": "code",
   "execution_count": 2,
   "metadata": {},
   "outputs": [
    {
     "name": "stderr",
     "output_type": "stream",
     "text": [
      "Warning message in read.dta13(paste0(path_work, \"00_RawData/2009-10/Household/GSEC2.dta\")):\n",
      "“\n",
      "  h2q6:\n",
      "  Missing factor labels - no labels assigned.\n",
      "  Set option generate.factors=T to generate labels.”Warning message in read.dta13(paste0(path_work, \"00_RawData/2009-10/Household/GSEC2.dta\")):\n",
      "“\n",
      "  h2q12:\n",
      "  Missing factor labels - no labels assigned.\n",
      "  Set option generate.factors=T to generate labels.”Warning message in read.dta13(paste0(path_work, \"00_RawData/2011-12/Household/GSEC2.dta\")):\n",
      "“\n",
      "  h2q6:\n",
      "  Missing factor labels - no labels assigned.\n",
      "  Set option generate.factors=T to generate labels.”Warning message in read.dta13(paste0(path_work, \"00_RawData/2011-12/Household/GSEC2.dta\")):\n",
      "“\n",
      "  h2q7:\n",
      "  Missing factor labels - no labels assigned.\n",
      "  Set option generate.factors=T to generate labels.”Warning message in read.dta13(paste0(path_work, \"00_RawData/2011-12/Household/GSEC2.dta\")):\n",
      "“\n",
      "  h2q10:\n",
      "  Missing factor labels - no labels assigned.\n",
      "  Set option generate.factors=T to generate labels.”"
     ]
    },
    {
     "data": {
      "text/html": [
       "1999"
      ],
      "text/latex": [
       "1999"
      ],
      "text/markdown": [
       "1999"
      ],
      "text/plain": [
       "[1] 1999"
      ]
     },
     "metadata": {},
     "output_type": "display_data"
    }
   ],
   "source": [
    "### Years\n",
    "hh_roster_06 <- read.dta13(paste0(path_work,\"00_RawData/2005-06/Household/GSEC2.dta\"))\n",
    "hh_roster_10 <- read.dta13(paste0(path_work,\"00_RawData/2009-10/Household/GSEC2.dta\"))\n",
    "hh_roster_11 <- read.dta13(paste0(path_work,\"00_RawData/2010-11/Household/GSEC2.dta\"))\n",
    "hh_roster_12 <- read.dta13(paste0(path_work,\"00_RawData/2011-12/Household/GSEC2.dta\"))\n",
    "hh_roster_14 <- read.dta13(paste0(path_work,\"00_RawData/2013-14/GSEC2.dta\"))\n",
    "  \n",
    "## Functions\n",
    "  get_hhsize <- function(hh_roster) {\n",
    "    hh_roster <- hh_roster %>% select(HHID,age) %>% \n",
    "      filter(!is.na(HHID)) %>% group_by(HHID,age) %>% summarise(n_per=n()) %>% \n",
    "      mutate(mem_ae=\n",
    "    ifelse(age==0,n_per*0.27,\n",
    "      ifelse(age==1,n_per*0.37,\n",
    "        ifelse(age==2,n_per*0.45,\n",
    "          ifelse(age==3|age==4,n_per*0.52,\n",
    "            ifelse(age==5|age==6,n_per*0.62,\n",
    "              ifelse(age==7|age==8|age==9,n_per*0.7,\n",
    "                ifelse(age==10|age==11,n_per*0.73,\n",
    "                  ifelse(age==12|age==13,n_per*0.80,\n",
    "                    ifelse(age==14|age==15,n_per*0.88,\n",
    "                      ifelse(age==16|age==17,n_per*0.95,n_per))))))))))) %>% \n",
    "                        group_by(HHID) %>% \n",
    "        summarise(hhsize=sum(n_per,na.rm=TRUE),hhsize_ae=sum(mem_ae,na.rm=TRUE))\n",
    "  }\n",
    "\n",
    "##### hhsize\n",
    "    # 2005-06\n",
    "    hh_roster_06 <- hh_roster_06 %>% mutate(age=2006-h2q8c) \n",
    "    hhsize_06 <- get_hhsize(hh_roster_06)\n",
    "    \n",
    "    # 2009-10\n",
    "    hh_roster_10 <- hh_roster_10 %>% mutate(age0=2010-h2q9c) %>% \n",
    "                    mutate(age=ifelse(age0<1900|age0>=2010,0,ifelse(age0==2010,1,age0))) \n",
    "    hhsize_10 <- get_hhsize(hh_roster_10)\n",
    "\n",
    "    # 2010-11\n",
    "    hh_roster_11 <- hh_roster_11 %>% mutate(age0=2011-h2q9c) %>% \n",
    "                    mutate(age=ifelse(age0<1900|age0>=2011,0,ifelse(age0==2011,1,age0)))  \n",
    "    hhsize_11 <- get_hhsize(hh_roster_11)\n",
    "\n",
    "    # 2011-12\n",
    "    hh_roster_12 <- hh_roster_12 %>% mutate(age0=2012-h2q9c) %>% \n",
    "                    mutate(age=ifelse(age0<0,0,ifelse(age0==2012,1,age0))) \n",
    "    hhsize_12 <- get_hhsize(hh_roster_12)\n",
    "    \n",
    "    2013-14\n",
    "    hh_roster_14 <- hh_roster_14 %>% mutate(age=h2q8)\n",
    "    hhsize_14 <- get_hhsize(hh_roster_14)\n"
   ]
  },
  {
   "cell_type": "markdown",
   "metadata": {},
   "source": [
    "# Dependency Ratio ()"
   ]
  },
  {
   "cell_type": "code",
   "execution_count": 3,
   "metadata": {},
   "outputs": [
    {
     "data": {
      "text/html": [
       "1999"
      ],
      "text/latex": [
       "1999"
      ],
      "text/markdown": [
       "1999"
      ],
      "text/plain": [
       "[1] 1999"
      ]
     },
     "metadata": {},
     "output_type": "display_data"
    }
   ],
   "source": [
    "## Function \n",
    "  get_dependecy_ratio <- function(hh_roster) {\n",
    "      ### Get \n",
    "      hh_roster1 <- hh_roster %>% \n",
    "      mutate(age_w=ifelse(age>=15 & age<=65,1,0),age_nw=ifelse(age<15|age>65,1,0)) %>% \n",
    "      group_by(HHID) %>% \n",
    "      summarise(nw=sum(age_nw,na.rm=TRUE),w=sum(age_w,na.rm=TRUE)) %>% \n",
    "      transmute(HHID=HHID,dep_ratio=ifelse(is.finite(nw/w),nw/w,1))\n",
    "  }\n",
    "    \n",
    "    # 2005-06\n",
    "    dep_r_06 <- get_dependecy_ratio(hh_roster_06)\n",
    "    \n",
    "    # 2009-10\n",
    "    dep_r_10 <- get_dependecy_ratio(hh_roster_10)\n",
    "\n",
    "    # 2010-11\n",
    "    dep_r_11 <- get_dependecy_ratio(hh_roster_11)\n",
    "\n",
    "    # 2011-12\n",
    "    dep_r_12 <- get_dependecy_ratio(hh_roster_12)\n",
    "    \n",
    "    2013-14\n",
    "    dep_r_14 <- get_dependecy_ratio(hh_roster_14)\n"
   ]
  },
  {
   "cell_type": "markdown",
   "metadata": {},
   "source": [
    "# Household Head Controls - Basics"
   ]
  },
  {
   "cell_type": "code",
   "execution_count": 4,
   "metadata": {},
   "outputs": [],
   "source": [
    "# Basic - Head Controls  \n",
    "  get_hh_head <- function(hh_roster) {\n",
    "    ### Get \n",
    "    colnames(hh_roster)=c(\"HHID\",\"per\",\"sex\",\"age\")\n",
    "    hh_roster <- hh_roster %>% filter(per==1) %>% \n",
    "      mutate(hh_head_age=age,hh_head_sex=ifelse(sex==\"FEMALE\"|sex==\"Female\",1,0)) %>% \n",
    "      select(HHID,hh_head_age,hh_head_sex)\n",
    "  }\n",
    "  \n",
    "    hh_head_06 <- get_hh_head(hh_roster_06[,c(\"HHID\",\"pid\",\"h2q4\",\"age\")])\n",
    "    hh_head_10 <- get_hh_head(hh_roster_10[,c(\"HHID\",\"h2q1\",\"h2q3\",\"age\")])\n",
    "    hh_head_11 <- get_hh_head(hh_roster_11[,c(\"HHID\",\"h2q1\",\"h2q3\",\"age\")])\n",
    "    hh_head_12 <- get_hh_head(hh_roster_12[,c(\"HHID\",\"h2q1\",\"h2q3\",\"age\")])\n",
    "    hh_head_14 <- get_hh_head(hh_roster_14[,c(\"HHID\",\"h2q1\",\"h2q3\",\"h2q8\")])\n",
    " "
   ]
  },
  {
   "cell_type": "markdown",
   "metadata": {},
   "source": [
    "# Household Head Controls - Education"
   ]
  },
  {
   "cell_type": "code",
   "execution_count": 5,
   "metadata": {
    "scrolled": true
   },
   "outputs": [
    {
     "name": "stderr",
     "output_type": "stream",
     "text": [
      "Warning message in read.dta13(paste0(path_work, \"00_RawData/2009-10/Household/GSEC4.dta\")):\n",
      "“\n",
      "  h4q9:\n",
      "  Missing factor labels - no labels assigned.\n",
      "  Set option generate.factors=T to generate labels.”Warning message in read.dta13(paste0(path_work, \"00_RawData/2009-10/Household/GSEC4.dta\")):\n",
      "“\n",
      "  h4q10:\n",
      "  Missing factor labels - no labels assigned.\n",
      "  Set option generate.factors=T to generate labels.”Joining, by = c(\"HHID\", \"PID\")\n",
      "Warning message in read.dta13(paste0(path_work, \"00_RawData/2010-11/Household/GSEC4.dta\")):\n",
      "“\n",
      "  h4q7:\n",
      "  Missing factor labels - no labels assigned.\n",
      "  Set option generate.factors=T to generate labels.”Warning message in read.dta13(paste0(path_work, \"00_RawData/2010-11/Household/GSEC4.dta\")):\n",
      "“\n",
      "  h4q8:\n",
      "  Missing factor labels - no labels assigned.\n",
      "  Set option generate.factors=T to generate labels.”Warning message in read.dta13(paste0(path_work, \"00_RawData/2010-11/Household/GSEC4.dta\")):\n",
      "“\n",
      "  h4q9:\n",
      "  Missing factor labels - no labels assigned.\n",
      "  Set option generate.factors=T to generate labels.”Joining, by = c(\"HHID\", \"PID\")\n",
      "Warning message in read.dta13(paste0(path_work, \"00_RawData/2011-12/Household/GSEC4.dta\")):\n",
      "“\n",
      "  h4q7:\n",
      "  Missing factor labels - no labels assigned.\n",
      "  Set option generate.factors=T to generate labels.”Warning message in read.dta13(paste0(path_work, \"00_RawData/2011-12/Household/GSEC4.dta\")):\n",
      "“\n",
      "  h4q9:\n",
      "  Missing factor labels - no labels assigned.\n",
      "  Set option generate.factors=T to generate labels.”Joining, by = c(\"HHID\", \"PID\")\n",
      "Joining, by = c(\"HHID\", \"PID\")\n"
     ]
    }
   ],
   "source": [
    "## Functions\n",
    "  get_hh_head <- function(x) {\n",
    "    colnames(x)=c(\"HHID\",\"pid\",\"edu_level\",\"read\")\n",
    "    x <- x %>% filter(pid==1) %>% \n",
    "      transmute(HHID=HHID,hh_head_sch=edu_level,hh_head_read=ifelse(read==\"unable to read and write\",0,1))\n",
    "  }\n",
    "\n",
    "# Basic - Head Controls \n",
    "  \n",
    "    ### 2004-05\n",
    "    ind_edu_06 <- read.dta13(paste0(path_work,\"00_RawData/2005-06/Household/GSEC4.dta\"))\n",
    "  \n",
    "    ### 2009-10\n",
    "    ind_edu_10 <- read.dta13(paste0(path_work,\"00_RawData/2009-10/Household/GSEC4.dta\"))\n",
    "    ind_edu_10 <- hh_roster_10 %>% mutate(pid=h2q1) %>% select(HHID,PID,pid) %>% left_join(ind_edu_10)\n",
    "\n",
    "    ### 2010-11\n",
    "    ind_edu_11 <- read.dta13(paste0(path_work,\"00_RawData/2010-11/Household/GSEC4.dta\"))\n",
    "    ind_edu_11 <- hh_roster_11 %>% mutate(pid=h2q1) %>% select(HHID,PID,pid) %>% left_join(ind_edu_11)\n",
    "  \n",
    "    ### 2011-12\n",
    "    ind_edu_12 <- read.dta13(paste0(path_work,\"00_RawData/2011-12/Household/GSEC4.dta\"))\n",
    "    ind_edu_12 <- hh_roster_12 %>% mutate(pid=h2q1) %>% select(HHID,PID,pid) %>% left_join(ind_edu_12)\n",
    "  \n",
    "    ## 2013-14\n",
    "    ind_edu_14 <- read.dta13(paste0(path_work,\"00_RawData/2013-14/GSEC4.dta\"))\n",
    "    ind_edu_14 <- hh_roster_14 %>% mutate(pid=h2q1) %>% select(HHID,PID,pid) %>% left_join(ind_edu_14)\n",
    "  \n",
    "\n",
    "    ### Gen Datasets\n",
    "    edu_06 <- get_hh_head(ind_edu_06[,c(\"HHID\",\"pid\",\"h4q4\",\"h4q12\")])\n",
    "    edu_10 <- get_hh_head(ind_edu_10[,c(\"HHID\",\"pid\",\"h4q7\",\"h4q4\")])\n",
    "    edu_11 <- get_hh_head(ind_edu_11[,c(\"HHID\",\"pid\",\"h4q7\",\"h4q4\")])\n",
    "    edu_12 <- get_hh_head(ind_edu_12[,c(\"HHID\",\"pid\",\"h4q7\",\"h4q4\")])\n",
    "    edu_14 <- get_hh_head(ind_edu_14[,c(\"HHID\",\"pid\",\"h4q7\",\"h4q4\")])\n",
    "  "
   ]
  },
  {
   "cell_type": "markdown",
   "metadata": {},
   "source": [
    "#  Household Characteristics"
   ]
  },
  {
   "cell_type": "code",
   "execution_count": 6,
   "metadata": {},
   "outputs": [],
   "source": [
    "# To be done\n",
    "#########################\n",
    "#################\n",
    "### Household Charcteristis\n",
    "#################\n",
    "########################\n",
    "  \n",
    "  ind_edu_05 <- read.dta13(paste0(path_work,\"00_RawData/2005-06/Household/GSEC4.dta\"))\n",
    "  hh_house_10 <- read.dta13(paste0(path_work,\"00_RawData/2010-11/Household/GSEC9A.dta\"))\n",
    "  hh_house_11 <- read.dta13(paste0(path_work,\"00_RawData/2011-12/Household/GSEC9A.dta\"))"
   ]
  },
  {
   "cell_type": "markdown",
   "metadata": {},
   "source": [
    "# Other Characteristics"
   ]
  },
  {
   "cell_type": "code",
   "execution_count": 7,
   "metadata": {},
   "outputs": [
    {
     "name": "stderr",
     "output_type": "stream",
     "text": [
      "Warning message in read.dta13(paste0(path_work, \"00_RawData/2005-06/Household/GSEC1.dta\")):\n",
      "“\n",
      "  region:\n",
      "  Missing factor labels - no labels assigned.\n",
      "  Set option generate.factors=T to generate labels.”Warning message in read.dta13(paste0(path_work, \"00_RawData/2005-06/Household/GSEC1.dta\")):\n",
      "“\n",
      "  urban:\n",
      "  Missing factor labels - no labels assigned.\n",
      "  Set option generate.factors=T to generate labels.”Warning message in read.dta13(paste0(path_work, \"00_RawData/2009-10/Household/GSEC1.dta\")):\n",
      "“\n",
      "  regurb:\n",
      "  Missing factor labels - no labels assigned.\n",
      "  Set option generate.factors=T to generate labels.”Warning message in read.dta13(paste0(path_work, \"00_RawData/2010-11/Household/GSEC1.dta\")):\n",
      "“\n",
      "  reason:\n",
      "  Missing factor labels - no labels assigned.\n",
      "  Set option generate.factors=T to generate labels.”Warning message in read.dta13(paste0(path_work, \"00_RawData/2011-12/Household/GSEC1.dta\")):\n",
      "“\n",
      "  regurb:\n",
      "  Missing factor labels - no labels assigned.\n",
      "  Set option generate.factors=T to generate labels.”Warning message in read.dta13(paste0(path_work, \"00_RawData/2011-12/Household/GSEC1.dta\")):\n",
      "“\n",
      "  reason:\n",
      "  Missing factor labels - no labels assigned.\n",
      "  Set option generate.factors=T to generate labels.”Warning message in read.dta13(paste0(path_work, \"00_RawData/2013-14/GSEC1.dta\")):\n",
      "“\n",
      "  urban:\n",
      "  Duplicated factor levels detected - generating unique labels.\n",
      "”"
     ]
    }
   ],
   "source": [
    "#################\n",
    "### Household Charcteristis\n",
    "#################\n",
    "########################\n",
    "  \n",
    " hh_int_06 <- read.dta13(paste0(path_work,\"00_RawData/2005-06/Household/GSEC1.dta\")) %>%\n",
    "        transmute(HHID=HHID,comm=comm,stratum=stratum,urban=urban,int_month=h1bq2b,int_year=h1bq2c)\n",
    "\n",
    " hh_int_10 <- read.dta13(paste0(path_work,\"00_RawData/2009-10/Household/GSEC1.dta\")) %>%\n",
    "    transmute(HHID=HHID,comm=comm,stratum=region,urban=ifelse(urban==\"Urban\",1,0),int_month=h1bq2b,int_year=h1bq2c)\n",
    "  \n",
    " hh_int_11 <- read.dta13(paste0(path_work,\"00_RawData/2010-11/Household/GSEC1.dta\")) %>%\n",
    "    transmute(HHID=HHID,comm=comm,stratum=region,urban=ifelse(urban==\"Urban\",1,0),int_month=month,int_year=year)\n",
    "\n",
    " hh_int_12 <- read.dta13(paste0(path_work,\"00_RawData/2011-12/Household/GSEC1.dta\")) %>%\n",
    "    transmute(HHID=HHID,comm=comm,stratum=region,urban=ifelse(urban==\"Urban\",1,0),int_month=month,int_year=year)\n",
    "  \n",
    " hh_int_14 <- read.dta13(paste0(path_work,\"00_RawData/2013-14/GSEC1.dta\")) %>% \n",
    "    transmute(HHID_05=HHID,HHID=as.character(HHID_old),ea=h1aq1a,stratum=region,urban=ifelse(urban==\"Urban\",1,0),int_month=month,int_year=year)\n",
    "  "
   ]
  },
  {
   "cell_type": "markdown",
   "metadata": {},
   "source": [
    "# Final Steps"
   ]
  },
  {
   "cell_type": "code",
   "execution_count": 9,
   "metadata": {},
   "outputs": [
    {
     "name": "stderr",
     "output_type": "stream",
     "text": [
      "Joining, by = \"HHID\"\n",
      "Joining, by = \"HHID\"\n",
      "Joining, by = \"HHID\"\n",
      "Joining, by = \"HHID\"\n",
      "Joining, by = \"HHID\"\n",
      "Joining, by = \"HHID\"\n",
      "Joining, by = \"HHID\"\n",
      "Joining, by = \"HHID\"\n",
      "Joining, by = \"HHID\"\n",
      "Joining, by = \"HHID\"\n",
      "Joining, by = \"HHID\"\n",
      "Joining, by = \"HHID\"\n",
      "Joining, by = \"HHID\"\n",
      "Joining, by = \"HHID\"\n",
      "Joining, by = \"HHID\"\n",
      "Joining, by = \"HHID\"\n",
      "Joining, by = \"HHID\"\n",
      "Joining, by = \"HHID\"\n",
      "Joining, by = \"HHID\"\n",
      "Joining, by = \"HHID\"\n"
     ]
    }
   ],
   "source": [
    "\n",
    "#########################\n",
    "#################\n",
    "### Final - Household Controls\n",
    "#################\n",
    "########################\n",
    "hhcontrols_06 <- hhsize_06 %>% left_join(dep_r_06) %>% \n",
    "                    left_join(hh_head_06) %>% left_join(edu_06) %>% left_join(hh_int_06)\n",
    "\n",
    "hhcontrols_10 <- hhsize_10 %>% left_join(dep_r_10) %>% \n",
    "                    left_join(hh_head_10) %>% left_join(edu_10) %>% left_join(hh_int_10)\n",
    "\n",
    "hhcontrols_11 <- hhsize_11 %>% left_join(dep_r_11) %>% \n",
    "                    left_join(hh_head_11) %>% left_join(edu_11) %>% left_join(hh_int_11)\n",
    "\n",
    "hhcontrols_12 <- hhsize_12 %>% left_join(dep_r_12) %>% \n",
    "                    left_join(hh_head_12) %>% left_join(edu_12) %>% left_join(hh_int_12)\n",
    "  \n",
    "hhcontrols_14 <- hhsize_14 %>% left_join(dep_r_14) %>% \n",
    "                    left_join(hh_head_14) %>% left_join(edu_14) %>% left_join(hh_int_14)\n",
    "\n",
    "  \n",
    "save(hhcontrols_06,hhcontrols_10,hhcontrols_11,hhcontrols_12,hhcontrols_14,file=paste0(save_data,\"00_hhcontrols_Jun2018.Rda\"))"
   ]
  },
  {
   "cell_type": "code",
   "execution_count": null,
   "metadata": {},
   "outputs": [],
   "source": []
  }
 ],
 "metadata": {
  "kernelspec": {
   "display_name": "R",
   "language": "R",
   "name": "ir"
  },
  "language_info": {
   "codemirror_mode": "r",
   "file_extension": ".r",
   "mimetype": "text/x-r-source",
   "name": "R",
   "pygments_lexer": "r",
   "version": "3.5.0"
  }
 },
 "nbformat": 4,
 "nbformat_minor": 2
}
