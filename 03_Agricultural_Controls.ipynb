{
 "cells": [
  {
   "cell_type": "code",
   "execution_count": 28,
   "metadata": {},
   "outputs": [],
   "source": [
    "##### Package\n",
    "library(\"readstata13\")\n",
    "library(plyr)\n",
    "library(dplyr)\n",
    "library(tidyr)\n",
    "library(Gmisc) # Transition Games\n",
    "\n",
    "### Directories\n",
    "path_work <- \"/Users/juancarlosmunoz/Box Sync/Uganda_LSMS/\"\n",
    "graph_path <- \"/Users/juancarlosmunoz/Box Sync/Uganda_LSMS/05_Paper/Graph/\"\n",
    "save_data <-  \"/Users/juancarlosmunoz/Box Sync/Uganda_LSMS/05_Analysis/\"\n",
    "path_who <- \"/Users/juancarlosmunoz/Box Sync/Uganda_LSMS/05_Analysis/inputs/\"\n",
    "\n"
   ]
  },
  {
   "cell_type": "markdown",
   "metadata": {},
   "source": [
    "# Functions"
   ]
  },
  {
   "cell_type": "code",
   "execution_count": 29,
   "metadata": {},
   "outputs": [],
   "source": [
    "get_area_crop <- function(df) {\n",
    "\n",
    "    #### Get Classification \n",
    "    crop_land_14 <- df %>% \n",
    "                filter(!is.na(area_crop)) %>%\n",
    "        mutate(\n",
    "      ##### First Classification - With Bananas\n",
    "      trees_a=ifelse((cropID %in% c(710,700,750,760,770,741,742,744)),\"Fruit Trees\",\n",
    "                     ifelse(cropID %in% c(860,820,830,810,811,812),\"Tree Cash Crops\",\n",
    "                    ifelse(cropID %in% c(880,970,990,950,960),\"Trees for Timber/Fuelwood\",\"Other Crops\"))),\n",
    "      ##### Second Classification - With Bananas\n",
    "      trees_b=ifelse((cropID %in% c(710,700,750,760,770)),\"Fruit Trees\",\n",
    "                     ifelse(cropID %in% c(860,820,830,810,811,812),\"Tree Cash Crops\",\n",
    "                            ifelse(cropID %in% c(880,970,990,950,960),\"Trees for Timber/Fuelwood\",\"Other Crops\"))))\n",
    "  \n",
    "\n",
    "  #### Building Aggregation for the first variable\n",
    "  crop_land_14_def_1 <- crop_land_14 %>% group_by(hhid,parcel_id,trees_a) %>% \n",
    "    summarise(area_crop=sum(area_crop,na.rm=TRUE)) %>% \n",
    "    ### ---> Spread the data and rename\n",
    "    spread(trees_a,area_crop,fill=0) %>% \n",
    "    rename(fruit=`Fruit Trees`,other_crop=`Other Crops`,cash=`Tree Cash Crops`) %>%\n",
    "    ### ---> Rename all varibles\n",
    "    setNames(c(names(.)[1], paste0(\"def1_\",names(.)[-1]))) %>% rename(parcel_id=def1_parcel_id)\n",
    "  \n",
    "  #### Building Aggregation for the Second variable\n",
    "  crop_land_14_def_2 <- crop_land_14 %>% group_by(hhid,parcel_id,trees_b) %>% \n",
    "    summarise(area_crop=sum(area_crop,na.rm=TRUE)) %>% \n",
    "    ### ---> Spread the data and rename\n",
    "    spread(trees_b,area_crop,fill=0) %>% \n",
    "    rename(fruit=`Fruit Trees`,other_crop=`Other Crops`,cash=`Tree Cash Crops`) %>%\n",
    "    ### ---> Rename all varibles\n",
    "    setNames(c(names(.)[1], paste0(\"def2_\",names(.)[-1]))) %>% \n",
    "    rename(parcel_id=def2_parcel_id) %>% mutate(parce_a_es=(def2_fruit+def2_other_crop+def2_cash))\n",
    "  \n",
    "  #### Merge information\n",
    "  \n",
    "  crop_a_14 <- crop_land_14_def_1 %>% inner_join(crop_land_14_def_2) %>% select(def1_fruit,parce_a_es,starts_with(\"def2_\")) %>% \n",
    "    ### Make the aggregations\n",
    "    transmute(treeonfarm_w_b=(def1_fruit+def2_cash),treesonfarm_wo_b=(def2_fruit+def2_cash),fruit_w_b=def1_fruit,fruit_wo_b=def2_fruit,cash=def2_cash,land_size_est=parce_a_es)\n",
    "\n",
    "    ##3\n",
    "    return(crop_a_14)\n",
    "}"
   ]
  },
  {
   "cell_type": "markdown",
   "metadata": {},
   "source": [
    "# Wave 2005-06"
   ]
  },
  {
   "cell_type": "markdown",
   "metadata": {},
   "source": [
    "## Area Per Crop"
   ]
  },
  {
   "cell_type": "code",
   "execution_count": 30,
   "metadata": {},
   "outputs": [
    {
     "name": "stderr",
     "output_type": "stream",
     "text": [
      "Joining, by = c(\"hhid\", \"parcel_id\")\n",
      "Adding missing grouping variables: `hhid`, `parcel_id`\n",
      "Adding missing grouping variables: `hhid`, `parcel_id`\n"
     ]
    }
   ],
   "source": [
    "############################################\n",
    "  ###############------------- Area per crop\n",
    "  #############################################\n",
    "  crop_land_05 <- read.dta13(paste0(path_work,\"00_RawData/2005-06/Agriculture/AGSEC4A.dta\"))\n",
    "  \n",
    "  crop_land_05 <- crop_land_05 %>% transmute(hhid=HHID,parcel_id=a4aq1,plot_id=a4aq2,cropID=a4aq5b,plot_size=a4aq3,share_crop=(a4aq6/100)) %>% filter(!is.na(share_crop)) %>% transmute(hhid,parcel_id,plot_id,cropID,area_crop=plot_size*share_crop) %>%\n",
    "    mutate(\n",
    "    ##### First Classification - With Bananas\n",
    "   trees_a=ifelse((cropID %in% c(710,700,750,760,770,741,742,744)),\"Fruit Trees\",\n",
    "ifelse(cropID %in% c(860,820,830,810,811,812),\"Tree Cash Crops\",\n",
    "ifelse(cropID %in% c(880,970,990,950,960),\"Trees for Timber/Fuelwood\",\"Other Crops\"))),\n",
    "  ##### Second Classification - With Bananas\n",
    "trees_b=ifelse((cropID %in% c(710,700,750,760,770)),\"Fruit Trees\",\n",
    "ifelse(cropID %in% c(860,820,830,810,811,812),\"Tree Cash Crops\",\n",
    "ifelse(cropID %in% c(880,970,990,950,960),\"Trees for Timber/Fuelwood\",\"Other Crops\"))))\n",
    "  #### Building Aggregation for the first variable\n",
    "  crop_land_05_def_1 <- crop_land_05 %>% group_by(hhid,parcel_id,trees_a) %>% summarise(area_crop=sum(area_crop,na.rm=TRUE)) %>% \n",
    "    ### ---> Spread the data and rename\n",
    "    spread(trees_a,area_crop,fill=0) %>% \n",
    "    rename(fruit=`Fruit Trees`,other_crop=`Other Crops`,cash=`Tree Cash Crops`,timber=`Trees for Timber/Fuelwood`) %>%\n",
    "    ### ---> Rename all varibles\n",
    "    setNames(c(names(.)[1], paste0(\"def1_\",names(.)[-1]))) %>% rename(parcel_id=def1_parcel_id)\n",
    "  \n",
    "  #### Building Aggregation for the Second variable\n",
    "  crop_land_05_def_2 <- crop_land_05 %>% group_by(hhid,parcel_id,trees_b) %>% summarise(area_crop=sum(area_crop,na.rm=TRUE)) %>% \n",
    "    ### ---> Spread the data and rename\n",
    "    spread(trees_b,area_crop,fill=0) %>% \n",
    "    rename(fruit=`Fruit Trees`,other_crop=`Other Crops`,cash=`Tree Cash Crops`,timber=`Trees for Timber/Fuelwood`) %>%\n",
    "    ### ---> Rename all varibles\n",
    "    setNames(c(names(.)[1], paste0(\"def2_\",names(.)[-1]))) %>% rename(parcel_id=def2_parcel_id) %>% mutate(parce_a_es=(def2_fruit+def2_other_crop+def2_timber+def2_cash))\n",
    "  \n",
    "  #### Merge information\n",
    "  \n",
    "  crop_a_05 <- crop_land_05_def_1 %>% inner_join(crop_land_05_def_2) %>% select(def1_fruit,parce_a_es,starts_with(\"def2_\")) %>% \n",
    "    ### Make the aggregations\n",
    "    transmute(treeonfarm_w_b=(def1_fruit+def2_timber+def2_cash),treesonfarm_wo_b=(def2_fruit+def2_timber+def2_cash),fruit_w_b=def1_fruit,fruit_wo_b=def2_fruit,cash=def2_cash,timber=def2_timber,land_size_est=parce_a_es)"
   ]
  },
  {
   "cell_type": "markdown",
   "metadata": {},
   "source": [
    "## Land Size"
   ]
  },
  {
   "cell_type": "code",
   "execution_count": 31,
   "metadata": {},
   "outputs": [
    {
     "name": "stderr",
     "output_type": "stream",
     "text": [
      "Warning message in read.dta13(paste0(path_work, \"00_RawData/2005-06/Agriculture/AGSEC2A.dta\")):\n",
      "“\n",
      "  a2aq13b:\n",
      "  Missing factor labels - no labels assigned.\n",
      "  Set option generate.factors=T to generate labels.”Warning message in read.dta13(paste0(path_work, \"00_RawData/2005-06/Agriculture/AGSEC2B.dta\")):\n",
      "“\n",
      "  a2bq15a:\n",
      "  Missing factor labels - no labels assigned.\n",
      "  Set option generate.factors=T to generate labels.”"
     ]
    }
   ],
   "source": [
    "  #############################################\n",
    "  ###############------------- Land Size\n",
    "  #############################################\n",
    "  \n",
    "  #####---- Land Size (Ownd)\n",
    "  land_05_a <- read.dta13(paste0(path_work,\"00_RawData/2005-06/Agriculture/AGSEC2A.dta\"))\n",
    "  \n",
    "  land_05_a <- land_05_a %>% transmute(hhid=HHID,parcel_id=a2aq2,land_size=ifelse(is.na(a2aq4),a2aq5,a2aq4)) \n",
    "  \n",
    "  #####---- Land Size (Use Rights)\n",
    "  land_05_b <- read.dta13(paste0(path_work,\"00_RawData/2005-06/Agriculture/AGSEC2B.dta\"))\n",
    "  \n",
    "  land_05_b <- land_05_b %>% transmute(hhid=HHID,parcel_id=a2bq2,land_size=ifelse(is.na(a2bq4),a2bq5,a2bq4)) \n",
    "  \n",
    "  #### Append Data Set\n",
    "  land_05 <- rbind(land_05_a,land_05_b)\n",
    "  "
   ]
  },
  {
   "cell_type": "markdown",
   "metadata": {},
   "source": [
    "## Final Merge"
   ]
  },
  {
   "cell_type": "code",
   "execution_count": 32,
   "metadata": {},
   "outputs": [
    {
     "name": "stderr",
     "output_type": "stream",
     "text": [
      "Joining, by = c(\"hhid\", \"parcel_id\")\n"
     ]
    }
   ],
   "source": [
    "  #############################################\n",
    "  ###############------------- Final Merge\n",
    "  #############################################\n",
    "\n",
    "  agri_06 <- crop_a_05 %>% left_join(land_05) %>% filter(!is.na(land_size)) %>%\n",
    "    mutate(land_size=ifelse(land_size_est>land_size,land_size_est,land_size)) %>%\n",
    "    #### Gen the aggregation by hiig\n",
    "    group_by(hhid) %>% summarise_all(sum) %>% select(-parcel_id) %>%\n",
    "    #### Build the shares\n",
    "    transmute(hhid=hhid,sh_tof_w_b=treeonfarm_w_b/land_size,sh_tof_wo_b=treesonfarm_wo_b/land_size,sh_fruit_w_b=fruit_w_b/land_size,sh_fruit_wo_b=fruit_wo_b/land_size,sh_cash=cash/land_size,sh_timber=timber/land_size,land_size=land_size)\n",
    "  "
   ]
  },
  {
   "cell_type": "markdown",
   "metadata": {},
   "source": [
    "# Wave 2009-10"
   ]
  },
  {
   "cell_type": "markdown",
   "metadata": {},
   "source": [
    "## Area Crop"
   ]
  },
  {
   "cell_type": "code",
   "execution_count": 33,
   "metadata": {},
   "outputs": [
    {
     "name": "stderr",
     "output_type": "stream",
     "text": [
      "Joining, by = c(\"hhid\", \"parcel_id\")\n",
      "Adding missing grouping variables: `hhid`, `parcel_id`\n",
      "Adding missing grouping variables: `hhid`, `parcel_id`\n"
     ]
    }
   ],
   "source": [
    "crop10 <- read.dta13(paste0(path_work,\"00_RawData/2009-10/Agriculture/AGSEC4A.dta\")) %>% \n",
    "        ### Identify Variables\n",
    "        transmute(hhid=HHID,parcel_id=a4aq2,plot_id=a4aq4,cropID=a4aq6,area_crop=a4aq8) \n",
    "\n",
    "crop_a_10 <- get_area_crop(crop10)\n"
   ]
  },
  {
   "cell_type": "markdown",
   "metadata": {
    "heading_collapsed": true
   },
   "source": [
    "##  Land Size"
   ]
  },
  {
   "cell_type": "code",
   "execution_count": 34,
   "metadata": {
    "hidden": true
   },
   "outputs": [
    {
     "name": "stderr",
     "output_type": "stream",
     "text": [
      "Warning message in read.dta13(paste0(path_work, \"00_RawData/2009-10/Agriculture/AGSEC2A.dta\")):\n",
      "“\n",
      "  a2aq6:\n",
      "  Missing factor labels - no labels assigned.\n",
      "  Set option generate.factors=T to generate labels.”Warning message in read.dta13(paste0(path_work, \"00_RawData/2009-10/Agriculture/AGSEC2B.dta\")):\n",
      "“\n",
      "  a2bq6:\n",
      "  Missing factor labels - no labels assigned.\n",
      "  Set option generate.factors=T to generate labels.”Warning message in read.dta13(paste0(path_work, \"00_RawData/2009-10/Agriculture/AGSEC2B.dta\")):\n",
      "“\n",
      "  a2bq8:\n",
      "  Missing factor labels - no labels assigned.\n",
      "  Set option generate.factors=T to generate labels.”Warning message in read.dta13(paste0(path_work, \"00_RawData/2009-10/Agriculture/AGSEC2B.dta\")):\n",
      "“\n",
      "  a2bq11:\n",
      "  Missing factor labels - no labels assigned.\n",
      "  Set option generate.factors=T to generate labels.”"
     ]
    }
   ],
   "source": [
    "  \n",
    "#####---- Land Size (Ownd)\n",
    "land_a <- read.dta13(paste0(path_work,\"00_RawData/2009-10/Agriculture/AGSEC2A.dta\"))\n",
    "land_a <- land_a %>% transmute(hhid=HHID,parcel_id=as.integer(a2aq2),land_size=ifelse(is.na(a2aq4),a2aq5,a2aq4)) %>% \n",
    "        group_by(hhid,parcel_id) %>% summarise(land_own=sum(land_size,na.rm=TRUE))\n",
    "\n",
    "#####---- Land Size (Use Rights)\n",
    "land_b <- read.dta13(paste0(path_work,\"00_RawData/2009-10/Agriculture/AGSEC2B.dta\"))\n",
    "land_b <- land_b %>% transmute(hhid=HHID,parcel_id=as.integer(a2bq2),land_size=ifelse(is.na(a2bq4),a2bq5,a2bq4)) %>% \n",
    "    group_by(hhid,parcel_id) %>% summarise(land_own=sum(land_size,na.rm=TRUE)) \n",
    " \n",
    "#### Append Data Set\n",
    "land_10 <- rbind(land_a,land_b)\n",
    "  "
   ]
  },
  {
   "cell_type": "markdown",
   "metadata": {},
   "source": [
    "## Merge "
   ]
  },
  {
   "cell_type": "code",
   "execution_count": 35,
   "metadata": {},
   "outputs": [
    {
     "name": "stderr",
     "output_type": "stream",
     "text": [
      "Joining, by = c(\"hhid\", \"parcel_id\")\n"
     ]
    }
   ],
   "source": [
    "agri_10 <- crop_a_10 %>% left_join(land_10) %>% filter(!is.na(land_own)) %>%\n",
    "    mutate(land_size=ifelse(land_size_est>land_own,land_size_est,land_own)) %>%\n",
    "    #### Gen the aggregation by hiig\n",
    "    group_by(hhid) %>% summarise_all(sum) %>% select(-parcel_id) %>%\n",
    "    #### Build the shares\n",
    "    transmute(hhid=hhid,sh_tof_w_b=treeonfarm_w_b/land_size,sh_tof_wo_b=treesonfarm_wo_b/land_size,sh_fruit_w_b=fruit_w_b/land_size,sh_fruit_wo_b=fruit_wo_b/land_size,sh_cash=cash/land_size,land_size=land_size)\n",
    "  "
   ]
  },
  {
   "cell_type": "markdown",
   "metadata": {},
   "source": [
    "# Wave 2010-11"
   ]
  },
  {
   "cell_type": "markdown",
   "metadata": {
    "heading_collapsed": true
   },
   "source": [
    "## Area Per Crop"
   ]
  },
  {
   "cell_type": "code",
   "execution_count": 36,
   "metadata": {
    "hidden": true
   },
   "outputs": [
    {
     "name": "stderr",
     "output_type": "stream",
     "text": [
      "Warning message in read.dta13(paste0(path_work, \"00_RawData/2010-11/Agriculture/AGSEC4A.dta\")):\n",
      "“\n",
      "  prcid:\n",
      "  Missing factor labels - no labels assigned.\n",
      "  Set option generate.factors=T to generate labels.”Warning message in read.dta13(paste0(path_work, \"00_RawData/2010-11/Agriculture/AGSEC4A.dta\")):\n",
      "“\n",
      "  cropID:\n",
      "  Missing factor labels - no labels assigned.\n",
      "  Set option generate.factors=T to generate labels.”Joining, by = c(\"hhid\", \"parcel_id\")\n",
      "Adding missing grouping variables: `hhid`, `parcel_id`\n",
      "Adding missing grouping variables: `hhid`, `parcel_id`\n"
     ]
    }
   ],
   "source": [
    "crop11 <- read.dta13(paste0(path_work,\"00_RawData/2010-11/Agriculture/AGSEC4A.dta\")) %>% \n",
    "        ### Identify Variables\n",
    "        transmute(hhid=HHID,parcel_id=prcid,plot_id=pltid,cropID=cropID,area_crop=a4aq8) \n",
    "\n",
    "crop_a_11 <- get_area_crop(crop11)\n"
   ]
  },
  {
   "cell_type": "markdown",
   "metadata": {
    "heading_collapsed": true
   },
   "source": [
    "## Land Size"
   ]
  },
  {
   "cell_type": "code",
   "execution_count": 37,
   "metadata": {
    "hidden": true
   },
   "outputs": [
    {
     "name": "stderr",
     "output_type": "stream",
     "text": [
      "Warning message in read.dta13(paste0(path_work, \"00_RawData/2010-11/Agriculture/AGSEC2B.dta\")):\n",
      "“\n",
      "  prcid:\n",
      "  Missing factor labels - no labels assigned.\n",
      "  Set option generate.factors=T to generate labels.”"
     ]
    }
   ],
   "source": [
    "  \n",
    "#####---- Land Size (Ownd)\n",
    "land_a <- read.dta13(paste0(path_work,\"00_RawData/2010-11/Agriculture/AGSEC2A.dta\"))\n",
    "land_a <- land_a %>% transmute(hhid=HHID,parcel_id=as.integer(prcid),land_size=ifelse(is.na(a2aq4),a2aq5,a2aq4)) %>% \n",
    "        group_by(hhid,parcel_id) %>% summarise(land_own=sum(land_size,na.rm=TRUE))\n",
    "\n",
    "#####---- Land Size (Use Rights)\n",
    "land_b <- read.dta13(paste0(path_work,\"00_RawData/2010-11/Agriculture/AGSEC2B.dta\"))\n",
    "land_b <- land_b %>% transmute(hhid=HHID,parcel_id=as.integer(prcid),land_size=ifelse(is.na(a2bq4),a2bq5,a2bq4)) %>% \n",
    "    group_by(hhid,parcel_id) %>% summarise(land_own=sum(land_size,na.rm=TRUE)) \n",
    " \n",
    "#### Append Data Set\n",
    "land_11 <- rbind(land_a,land_b)\n",
    "  "
   ]
  },
  {
   "cell_type": "markdown",
   "metadata": {},
   "source": [
    "## Final Merge"
   ]
  },
  {
   "cell_type": "code",
   "execution_count": 38,
   "metadata": {},
   "outputs": [
    {
     "name": "stderr",
     "output_type": "stream",
     "text": [
      "Joining, by = c(\"hhid\", \"parcel_id\")\n"
     ]
    }
   ],
   "source": [
    "agri_11 <- crop_a_11 %>% left_join(land_11) %>% filter(!is.na(land_own)) %>%\n",
    "    mutate(land_size=ifelse(land_size_est>land_own,land_size_est,land_own)) %>%\n",
    "    #### Gen the aggregation by hiig\n",
    "    group_by(hhid) %>% summarise_all(sum) %>% select(-parcel_id) %>%\n",
    "    #### Build the shares\n",
    "    transmute(hhid=hhid,sh_tof_w_b=treeonfarm_w_b/land_size,sh_tof_wo_b=treesonfarm_wo_b/land_size,sh_fruit_w_b=fruit_w_b/land_size,sh_fruit_wo_b=fruit_wo_b/land_size,sh_cash=cash/land_size,land_size=land_size)\n",
    "  "
   ]
  },
  {
   "cell_type": "markdown",
   "metadata": {},
   "source": [
    "# Wave 2011-12"
   ]
  },
  {
   "cell_type": "markdown",
   "metadata": {},
   "source": [
    "## Area per Crop"
   ]
  },
  {
   "cell_type": "code",
   "execution_count": 39,
   "metadata": {},
   "outputs": [
    {
     "name": "stderr",
     "output_type": "stream",
     "text": [
      "Warning message in read.dta13(paste0(path_work, \"00_RawData/2011-12/Agriculture/AGSEC4A.dta\")):\n",
      "“\n",
      "  cropID:\n",
      "  Missing factor labels - no labels assigned.\n",
      "  Set option generate.factors=T to generate labels.”Joining, by = c(\"hhid\", \"parcel_id\")\n",
      "Adding missing grouping variables: `hhid`, `parcel_id`\n",
      "Adding missing grouping variables: `hhid`, `parcel_id`\n"
     ]
    }
   ],
   "source": [
    "crop12 <- read.dta13(paste0(path_work,\"00_RawData/2011-12/Agriculture/AGSEC4A.dta\")) %>% \n",
    "        ### Identify Variables\n",
    "        transmute(hhid=HHID,parcel_id=parcelID,plot_id=plotID,cropID=cropID,area_crop=a4aq7) \n",
    "\n",
    "crop_a_12 <- get_area_crop(crop12)"
   ]
  },
  {
   "cell_type": "markdown",
   "metadata": {},
   "source": [
    "## Land Size"
   ]
  },
  {
   "cell_type": "code",
   "execution_count": 40,
   "metadata": {},
   "outputs": [],
   "source": [
    "#####---- Land Size (Ownd)\n",
    "land_a <- read.dta13(paste0(path_work,\"00_RawData/2011-12/Agriculture/AGSEC2A.dta\"))\n",
    "land_a <- land_a %>% transmute(hhid=HHID,parcel_id=as.integer(parcelID),land_size=ifelse(is.na(a2aq4),a2aq5,a2aq4)) %>% \n",
    "        group_by(hhid,parcel_id) %>% summarise(land_own=sum(land_size,na.rm=TRUE))\n",
    "\n",
    "#####---- Land Size (Use Rights)\n",
    "land_b <- read.dta13(paste0(path_work,\"00_RawData/2011-12/Agriculture/AGSEC2B.dta\"))\n",
    "land_b <- land_b %>% transmute(hhid=HHID,parcel_id=as.integer(parcelID),land_size=ifelse(is.na(a2bq4),a2bq5,a2bq4)) %>% \n",
    "    group_by(hhid,parcel_id) %>% summarise(land_own=sum(land_size,na.rm=TRUE)) \n",
    " \n",
    "#### Append Data Set\n",
    "land_12 <- rbind(land_a,land_b)"
   ]
  },
  {
   "cell_type": "markdown",
   "metadata": {},
   "source": [
    "## Merge"
   ]
  },
  {
   "cell_type": "code",
   "execution_count": 41,
   "metadata": {},
   "outputs": [
    {
     "name": "stderr",
     "output_type": "stream",
     "text": [
      "Joining, by = c(\"hhid\", \"parcel_id\")\n"
     ]
    }
   ],
   "source": [
    "agri_12 <- crop_a_12 %>% left_join(land_12) %>% filter(!is.na(land_own)) %>%\n",
    "    mutate(land_size=ifelse(land_size_est>land_own,land_size_est,land_own)) %>%\n",
    "    #### Gen the aggregation by hiig\n",
    "    group_by(hhid) %>% summarise_all(sum) %>% select(-parcel_id) %>%\n",
    "    #### Build the shares\n",
    "    transmute(hhid=hhid,sh_tof_w_b=treeonfarm_w_b/land_size,sh_tof_wo_b=treesonfarm_wo_b/land_size,sh_fruit_w_b=fruit_w_b/land_size,sh_fruit_wo_b=fruit_wo_b/land_size,sh_cash=cash/land_size,land_size=land_size)\n",
    "  "
   ]
  },
  {
   "cell_type": "markdown",
   "metadata": {},
   "source": [
    "# Wave 2013-14"
   ]
  },
  {
   "cell_type": "markdown",
   "metadata": {},
   "source": [
    "## Area per Crop"
   ]
  },
  {
   "cell_type": "code",
   "execution_count": 42,
   "metadata": {},
   "outputs": [
    {
     "name": "stderr",
     "output_type": "stream",
     "text": [
      "Warning message in read.dta13(paste0(path_work, \"00_RawData/2013-14/AGSEC4A.dta\")):\n",
      "“\n",
      "  cropID:\n",
      "  Missing factor labels - no labels assigned.\n",
      "  Set option generate.factors=T to generate labels.”Warning message in read.dta13(paste0(path_work, \"00_RawData/2013-14/AGSEC4A.dta\")):\n",
      "“\n",
      "  a4aq12b:\n",
      "  Missing factor labels - no labels assigned.\n",
      "  Set option generate.factors=T to generate labels.”Joining, by = c(\"hhid\", \"parcel_id\")\n",
      "Adding missing grouping variables: `hhid`, `parcel_id`\n",
      "Adding missing grouping variables: `hhid`, `parcel_id`\n"
     ]
    }
   ],
   "source": [
    "crop14 <- read.dta13(paste0(path_work,\"00_RawData/2013-14/AGSEC4A.dta\")) %>% \n",
    "        ### Identify Variables\n",
    "        transmute(hhid=hh,parcel_id=parcelID,plot_id=plotID,cropID=cropID,area_crop=a4aq7,year_planted=a4aq9_2) \n",
    "\n",
    "crop_a_14 <- get_area_crop(crop12)\n"
   ]
  },
  {
   "cell_type": "markdown",
   "metadata": {},
   "source": [
    "## Land Size"
   ]
  },
  {
   "cell_type": "code",
   "execution_count": 43,
   "metadata": {},
   "outputs": [],
   "source": [
    "#####---- Land Size (Ownd)\n",
    "land_a <- read.dta13(paste0(path_work,\"00_RawData/2011-12/Agriculture/AGSEC2A.dta\"))\n",
    "land_a <- land_a %>% transmute(hhid=HHID,parcel_id=as.integer(parcelID),land_size=ifelse(is.na(a2aq4),a2aq5,a2aq4)) %>% \n",
    "        group_by(hhid,parcel_id) %>% summarise(land_own=sum(land_size,na.rm=TRUE))\n",
    "\n",
    "#####---- Land Size (Use Rights)\n",
    "land_b <- read.dta13(paste0(path_work,\"00_RawData/2011-12/Agriculture/AGSEC2B.dta\"))\n",
    "land_b <- land_b %>% transmute(hhid=HHID,parcel_id=as.integer(parcelID),land_size=ifelse(is.na(a2bq4),a2bq5,a2bq4)) %>% \n",
    "    group_by(hhid,parcel_id) %>% summarise(land_own=sum(land_size,na.rm=TRUE)) \n",
    " \n",
    "#### Append Data Set\n",
    "land_12 <- rbind(land_a,land_b)"
   ]
  },
  {
   "cell_type": "markdown",
   "metadata": {},
   "source": [
    "## Merge "
   ]
  },
  {
   "cell_type": "code",
   "execution_count": 44,
   "metadata": {},
   "outputs": [
    {
     "name": "stderr",
     "output_type": "stream",
     "text": [
      "Joining, by = c(\"hhid\", \"parcel_id\")\n"
     ]
    }
   ],
   "source": [
    "agri_14 <- crop_a_12 %>% left_join(land_12) %>% filter(!is.na(land_own)) %>%\n",
    "    mutate(land_size=ifelse(land_size_est>land_own,land_size_est,land_own)) %>%\n",
    "    #### Gen the aggregation by hiig\n",
    "    group_by(hhid) %>% summarise_all(sum) %>% select(-parcel_id) %>%\n",
    "    #### Build the shares\n",
    "    transmute(hhid=hhid,sh_tof_w_b=treeonfarm_w_b/land_size,sh_tof_wo_b=treesonfarm_wo_b/land_size,sh_fruit_w_b=fruit_w_b/land_size,sh_fruit_wo_b=fruit_wo_b/land_size,sh_cash=cash/land_size,land_size=land_size)\n",
    "  "
   ]
  },
  {
   "cell_type": "markdown",
   "metadata": {},
   "source": [
    "# Final - Save Data Sets"
   ]
  },
  {
   "cell_type": "code",
   "execution_count": 45,
   "metadata": {},
   "outputs": [],
   "source": [
    "agri_06 <- agri_06 %>% mutate(HHID=as.character(hhid))\n",
    "agri_10 <- agri_10 %>% mutate(HHID=as.character(hhid))\n",
    "agri_11 <- agri_11 %>% mutate(HHID=as.character(hhid))\n",
    "agri_12 <- agri_12 %>% mutate(HHID=as.character(hhid))\n",
    "agri_14 <- agri_14 %>% mutate(HHID=as.character(hhid))"
   ]
  },
  {
   "cell_type": "code",
   "execution_count": 46,
   "metadata": {},
   "outputs": [],
   "source": [
    "save(agri_06,agri_10,agri_11,agri_12,agri_14,file=paste0(save_data,\"03_agr_controls_June2017.Rda\"))"
   ]
  }
 ],
 "metadata": {
  "kernelspec": {
   "display_name": "R",
   "language": "R",
   "name": "ir"
  },
  "language_info": {
   "codemirror_mode": "r",
   "file_extension": ".r",
   "mimetype": "text/x-r-source",
   "name": "R",
   "pygments_lexer": "r",
   "version": "3.3.3"
  }
 },
 "nbformat": 4,
 "nbformat_minor": 2
}
